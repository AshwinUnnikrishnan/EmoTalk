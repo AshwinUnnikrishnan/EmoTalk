{
  "metadata": {
    "kernelspec": {
      "language": "python",
      "display_name": "Python 3",
      "name": "python3"
    },
    "language_info": {
      "name": "python",
      "version": "3.10.12",
      "mimetype": "text/x-python",
      "codemirror_mode": {
        "name": "ipython",
        "version": 3
      },
      "pygments_lexer": "ipython3",
      "nbconvert_exporter": "python",
      "file_extension": ".py"
    },
    "colab": {
      "provenance": []
    }
  },
  "nbformat_minor": 0,
  "nbformat": 4,
  "cells": [
    {
      "cell_type": "code",
      "source": [
        "from google.colab import drive\n",
        "drive.mount('/content/gdrive')\n",
        "BASE_PATH = \"/content/gdrive/MyDrive/twitter_data/\""
      ],
      "metadata": {
        "colab": {
          "base_uri": "https://localhost:8080/"
        },
        "id": "pKQbb-PYge5E",
        "outputId": "9dd3e0b4-93d8-42f6-cd18-44725379e05c"
      },
      "execution_count": 2,
      "outputs": [
        {
          "output_type": "stream",
          "name": "stdout",
          "text": [
            "Mounted at /content/gdrive\n"
          ]
        }
      ]
    },
    {
      "cell_type": "code",
      "source": [
        "# This Python 3 environment comes with many helpful analytics libraries installed\n",
        "# It is defined by the kaggle/python Docker image: https://github.com/kaggle/docker-python\n",
        "# For example, here's several helpful packages to load\n",
        "\n",
        "import numpy as np # linear algebra\n",
        "import pandas as pd # data processing, CSV file I/O (e.g. pd.read_csv)\n",
        "\n",
        "# Input data files are available in the read-only \"../input/\" directory\n",
        "# For example, running this (by clicking run or pressing Shift+Enter) will list all files under the input directory\n",
        "\n",
        "import os\n",
        "for dirname, _, filenames in os.walk(BASE_PATH):\n",
        "    for filename in filenames:\n",
        "        print(os.path.join(dirname, filename))\n",
        "\n",
        "# You can write up to 20GB to the current directory (/kaggle/working/) that gets preserved as output when you create a version using \"Save & Run All\"\n",
        "# You can also write temporary files to /kaggle/temp/, but they won't be saved outside of the current session"
      ],
      "metadata": {
        "_uuid": "8f2839f25d086af736a60e9eeb907d3b93b6e0e5",
        "_cell_guid": "b1076dfc-b9ad-4769-8c92-a6c4dae69d19",
        "execution": {
          "iopub.status.busy": "2023-07-29T21:12:13.594872Z",
          "iopub.execute_input": "2023-07-29T21:12:13.595259Z",
          "iopub.status.idle": "2023-07-29T21:12:13.643133Z",
          "shell.execute_reply.started": "2023-07-29T21:12:13.595222Z",
          "shell.execute_reply": "2023-07-29T21:12:13.641984Z"
        },
        "trusted": true,
        "id": "DuM0cfYtgdti",
        "colab": {
          "base_uri": "https://localhost:8080/"
        },
        "outputId": "94d0f25b-8606-4716-b8b0-3b14ea9b1aa3"
      },
      "execution_count": 3,
      "outputs": [
        {
          "output_type": "stream",
          "name": "stdout",
          "text": [
            "/content/gdrive/MyDrive/twitter_data/twitter_validation.csv\n",
            "/content/gdrive/MyDrive/twitter_data/twitter_training.csv\n"
          ]
        }
      ]
    },
    {
      "cell_type": "code",
      "source": [
        "# Perform EDA on the given data\n",
        "# Visualize to get a better undersanding\n",
        "# Train models using transformers"
      ],
      "metadata": {
        "execution": {
          "iopub.status.busy": "2023-07-29T21:12:13.646346Z",
          "iopub.execute_input": "2023-07-29T21:12:13.646755Z",
          "iopub.status.idle": "2023-07-29T21:12:13.652079Z",
          "shell.execute_reply.started": "2023-07-29T21:12:13.646717Z",
          "shell.execute_reply": "2023-07-29T21:12:13.651018Z"
        },
        "trusted": true,
        "id": "7Of6zAxRgdtk"
      },
      "execution_count": 4,
      "outputs": []
    },
    {
      "cell_type": "markdown",
      "source": [
        "## <b><span style='color:#F1A425'>Import Library</span></b>\n"
      ],
      "metadata": {
        "id": "DRnZ4k9Ogdtl"
      }
    },
    {
      "cell_type": "code",
      "source": [
        "!pip install emoji"
      ],
      "metadata": {
        "id": "4sB5J27YhFi2",
        "colab": {
          "base_uri": "https://localhost:8080/"
        },
        "outputId": "86fe7e8b-e85d-4c81-fdba-12547c650d70"
      },
      "execution_count": 5,
      "outputs": [
        {
          "output_type": "stream",
          "name": "stdout",
          "text": [
            "Collecting emoji\n",
            "  Downloading emoji-2.7.0.tar.gz (361 kB)\n",
            "\u001b[?25l     \u001b[90m━━━━━━━━━━━━━━━━━━━━━━━━━━━━━━━━━━━━━━━━\u001b[0m \u001b[32m0.0/361.8 kB\u001b[0m \u001b[31m?\u001b[0m eta \u001b[36m-:--:--\u001b[0m\r\u001b[2K     \u001b[91m━━━━━━━━━━━━━━━━━━━━━━━━\u001b[0m\u001b[90m╺\u001b[0m\u001b[90m━━━━━━━━━━━━━━\u001b[0m \u001b[32m225.3/361.8 kB\u001b[0m \u001b[31m6.5 MB/s\u001b[0m eta \u001b[36m0:00:01\u001b[0m\r\u001b[2K     \u001b[90m━━━━━━━━━━━━━━━━━━━━━━━━━━━━━━━━━━━━━━━\u001b[0m \u001b[32m361.8/361.8 kB\u001b[0m \u001b[31m7.1 MB/s\u001b[0m eta \u001b[36m0:00:00\u001b[0m\n",
            "\u001b[?25h  Installing build dependencies ... \u001b[?25l\u001b[?25hdone\n",
            "  Getting requirements to build wheel ... \u001b[?25l\u001b[?25hdone\n",
            "  Preparing metadata (pyproject.toml) ... \u001b[?25l\u001b[?25hdone\n",
            "Building wheels for collected packages: emoji\n",
            "  Building wheel for emoji (pyproject.toml) ... \u001b[?25l\u001b[?25hdone\n",
            "  Created wheel for emoji: filename=emoji-2.7.0-py2.py3-none-any.whl size=356563 sha256=e1e92f65df57d21e1d0451644a55deb00d98f682accadcb107fe1f4b7b0f5d6b\n",
            "  Stored in directory: /root/.cache/pip/wheels/41/11/48/5df0b9727d5669c9174a141134f10304d1d78a3b89a4676f3d\n",
            "Successfully built emoji\n",
            "Installing collected packages: emoji\n",
            "Successfully installed emoji-2.7.0\n"
          ]
        }
      ]
    },
    {
      "cell_type": "code",
      "source": [
        "import pandas as pd\n",
        "import matplotlib.pyplot as plt\n",
        "from wordcloud import WordCloud\n",
        "import regex as re\n",
        "import emoji\n",
        "import string\n",
        "from nltk.corpus import stopwords\n",
        "from nltk.tokenize import word_tokenize\n",
        "from nltk.stem.snowball import SnowballStemmer\n",
        "import random\n",
        "import nltk\n",
        "from nltk.corpus import stopwords\n",
        "from nltk.tokenize import word_tokenize\n",
        "from nltk.stem import WordNetLemmatizer, PorterStemmer\n",
        "from sklearn import preprocessing\n",
        "import multiprocessing\n",
        "from tqdm import tqdm\n",
        "\n",
        "#evaluation metrics\n",
        "from sklearn.metrics import confusion_matrix,f1_score,accuracy_score, classification_report\n",
        "from sklearn.model_selection import GridSearchCV\n",
        "from sklearn.ensemble import RandomForestClassifier\n",
        "from yellowbrick.classifier import PrecisionRecallCurve"
      ],
      "metadata": {
        "execution": {
          "iopub.status.busy": "2023-07-29T21:32:47.521799Z",
          "iopub.execute_input": "2023-07-29T21:32:47.522215Z",
          "iopub.status.idle": "2023-07-29T21:32:47.528770Z",
          "shell.execute_reply.started": "2023-07-29T21:32:47.522155Z",
          "shell.execute_reply": "2023-07-29T21:32:47.527526Z"
        },
        "trusted": true,
        "id": "0GRAkXd_gdtl"
      },
      "execution_count": 6,
      "outputs": []
    },
    {
      "cell_type": "code",
      "source": [
        "column_names = ['Tweet_ID','Entity','Sentiment','Tweet_content']\n",
        "train = pd.read_csv('{}/twitter_training.csv'.format(BASE_PATH),header=None, names = column_names)\n",
        "validation = pd.read_csv('{}/twitter_validation.csv'.format(BASE_PATH),header=None, names = column_names)\n"
      ],
      "metadata": {
        "execution": {
          "iopub.status.busy": "2023-07-29T21:12:13.733791Z",
          "iopub.execute_input": "2023-07-29T21:12:13.734577Z",
          "iopub.status.idle": "2023-07-29T21:12:14.083708Z",
          "shell.execute_reply.started": "2023-07-29T21:12:13.734535Z",
          "shell.execute_reply": "2023-07-29T21:12:14.082442Z"
        },
        "trusted": true,
        "id": "kmjw_9__gdtm"
      },
      "execution_count": 7,
      "outputs": []
    },
    {
      "cell_type": "markdown",
      "source": [
        "## <b><span style='color:#F1A425'>EDA on Data</span></b>\n"
      ],
      "metadata": {
        "id": "bD53mHTJgdtm"
      }
    },
    {
      "cell_type": "markdown",
      "source": [
        "#### How data looks"
      ],
      "metadata": {
        "id": "q09ip-zIgdtm"
      }
    },
    {
      "cell_type": "code",
      "source": [
        "# see the columns in the loaded data\n",
        "train.keys()"
      ],
      "metadata": {
        "execution": {
          "iopub.status.busy": "2023-07-29T21:12:14.092063Z",
          "iopub.execute_input": "2023-07-29T21:12:14.092530Z",
          "iopub.status.idle": "2023-07-29T21:12:14.101833Z",
          "shell.execute_reply.started": "2023-07-29T21:12:14.092489Z",
          "shell.execute_reply": "2023-07-29T21:12:14.100704Z"
        },
        "trusted": true,
        "colab": {
          "base_uri": "https://localhost:8080/"
        },
        "id": "a8yldBX8gdtn",
        "outputId": "748bdfd6-5758-422f-c94c-502e1a304f8a"
      },
      "execution_count": 8,
      "outputs": [
        {
          "output_type": "execute_result",
          "data": {
            "text/plain": [
              "Index(['Tweet_ID', 'Entity', 'Sentiment', 'Tweet_content'], dtype='object')"
            ]
          },
          "metadata": {},
          "execution_count": 8
        }
      ]
    },
    {
      "cell_type": "code",
      "source": [
        "train.shape"
      ],
      "metadata": {
        "colab": {
          "base_uri": "https://localhost:8080/"
        },
        "id": "a8tQmySEbbiH",
        "outputId": "247326e1-6abc-45f1-ed96-ee0c74196efb"
      },
      "execution_count": 9,
      "outputs": [
        {
          "output_type": "execute_result",
          "data": {
            "text/plain": [
              "(74682, 4)"
            ]
          },
          "metadata": {},
          "execution_count": 9
        }
      ]
    },
    {
      "cell_type": "code",
      "source": [
        "# printing top 5\n",
        "train.head(5)"
      ],
      "metadata": {
        "execution": {
          "iopub.status.busy": "2023-07-29T21:12:14.103429Z",
          "iopub.execute_input": "2023-07-29T21:12:14.104053Z",
          "iopub.status.idle": "2023-07-29T21:12:14.128756Z",
          "shell.execute_reply.started": "2023-07-29T21:12:14.104015Z",
          "shell.execute_reply": "2023-07-29T21:12:14.127610Z"
        },
        "trusted": true,
        "colab": {
          "base_uri": "https://localhost:8080/",
          "height": 206
        },
        "id": "9nhzclsMgdtn",
        "outputId": "f883aa2a-f419-422b-c3b7-5ce83318f84e"
      },
      "execution_count": 10,
      "outputs": [
        {
          "output_type": "execute_result",
          "data": {
            "text/plain": [
              "   Tweet_ID       Entity Sentiment  \\\n",
              "0      2401  Borderlands  Positive   \n",
              "1      2401  Borderlands  Positive   \n",
              "2      2401  Borderlands  Positive   \n",
              "3      2401  Borderlands  Positive   \n",
              "4      2401  Borderlands  Positive   \n",
              "\n",
              "                                       Tweet_content  \n",
              "0  im getting on borderlands and i will murder yo...  \n",
              "1  I am coming to the borders and I will kill you...  \n",
              "2  im getting on borderlands and i will kill you ...  \n",
              "3  im coming on borderlands and i will murder you...  \n",
              "4  im getting on borderlands 2 and i will murder ...  "
            ],
            "text/html": [
              "\n",
              "\n",
              "  <div id=\"df-40bc7b0e-f58e-4f61-a56c-79ea54033f50\">\n",
              "    <div class=\"colab-df-container\">\n",
              "      <div>\n",
              "<style scoped>\n",
              "    .dataframe tbody tr th:only-of-type {\n",
              "        vertical-align: middle;\n",
              "    }\n",
              "\n",
              "    .dataframe tbody tr th {\n",
              "        vertical-align: top;\n",
              "    }\n",
              "\n",
              "    .dataframe thead th {\n",
              "        text-align: right;\n",
              "    }\n",
              "</style>\n",
              "<table border=\"1\" class=\"dataframe\">\n",
              "  <thead>\n",
              "    <tr style=\"text-align: right;\">\n",
              "      <th></th>\n",
              "      <th>Tweet_ID</th>\n",
              "      <th>Entity</th>\n",
              "      <th>Sentiment</th>\n",
              "      <th>Tweet_content</th>\n",
              "    </tr>\n",
              "  </thead>\n",
              "  <tbody>\n",
              "    <tr>\n",
              "      <th>0</th>\n",
              "      <td>2401</td>\n",
              "      <td>Borderlands</td>\n",
              "      <td>Positive</td>\n",
              "      <td>im getting on borderlands and i will murder yo...</td>\n",
              "    </tr>\n",
              "    <tr>\n",
              "      <th>1</th>\n",
              "      <td>2401</td>\n",
              "      <td>Borderlands</td>\n",
              "      <td>Positive</td>\n",
              "      <td>I am coming to the borders and I will kill you...</td>\n",
              "    </tr>\n",
              "    <tr>\n",
              "      <th>2</th>\n",
              "      <td>2401</td>\n",
              "      <td>Borderlands</td>\n",
              "      <td>Positive</td>\n",
              "      <td>im getting on borderlands and i will kill you ...</td>\n",
              "    </tr>\n",
              "    <tr>\n",
              "      <th>3</th>\n",
              "      <td>2401</td>\n",
              "      <td>Borderlands</td>\n",
              "      <td>Positive</td>\n",
              "      <td>im coming on borderlands and i will murder you...</td>\n",
              "    </tr>\n",
              "    <tr>\n",
              "      <th>4</th>\n",
              "      <td>2401</td>\n",
              "      <td>Borderlands</td>\n",
              "      <td>Positive</td>\n",
              "      <td>im getting on borderlands 2 and i will murder ...</td>\n",
              "    </tr>\n",
              "  </tbody>\n",
              "</table>\n",
              "</div>\n",
              "      <button class=\"colab-df-convert\" onclick=\"convertToInteractive('df-40bc7b0e-f58e-4f61-a56c-79ea54033f50')\"\n",
              "              title=\"Convert this dataframe to an interactive table.\"\n",
              "              style=\"display:none;\">\n",
              "\n",
              "  <svg xmlns=\"http://www.w3.org/2000/svg\" height=\"24px\"viewBox=\"0 0 24 24\"\n",
              "       width=\"24px\">\n",
              "    <path d=\"M0 0h24v24H0V0z\" fill=\"none\"/>\n",
              "    <path d=\"M18.56 5.44l.94 2.06.94-2.06 2.06-.94-2.06-.94-.94-2.06-.94 2.06-2.06.94zm-11 1L8.5 8.5l.94-2.06 2.06-.94-2.06-.94L8.5 2.5l-.94 2.06-2.06.94zm10 10l.94 2.06.94-2.06 2.06-.94-2.06-.94-.94-2.06-.94 2.06-2.06.94z\"/><path d=\"M17.41 7.96l-1.37-1.37c-.4-.4-.92-.59-1.43-.59-.52 0-1.04.2-1.43.59L10.3 9.45l-7.72 7.72c-.78.78-.78 2.05 0 2.83L4 21.41c.39.39.9.59 1.41.59.51 0 1.02-.2 1.41-.59l7.78-7.78 2.81-2.81c.8-.78.8-2.07 0-2.86zM5.41 20L4 18.59l7.72-7.72 1.47 1.35L5.41 20z\"/>\n",
              "  </svg>\n",
              "      </button>\n",
              "\n",
              "\n",
              "\n",
              "    <div id=\"df-38905539-86c1-49f0-a14f-32bee64a94ca\">\n",
              "      <button class=\"colab-df-quickchart\" onclick=\"quickchart('df-38905539-86c1-49f0-a14f-32bee64a94ca')\"\n",
              "              title=\"Suggest charts.\"\n",
              "              style=\"display:none;\">\n",
              "\n",
              "<svg xmlns=\"http://www.w3.org/2000/svg\" height=\"24px\"viewBox=\"0 0 24 24\"\n",
              "     width=\"24px\">\n",
              "    <g>\n",
              "        <path d=\"M19 3H5c-1.1 0-2 .9-2 2v14c0 1.1.9 2 2 2h14c1.1 0 2-.9 2-2V5c0-1.1-.9-2-2-2zM9 17H7v-7h2v7zm4 0h-2V7h2v10zm4 0h-2v-4h2v4z\"/>\n",
              "    </g>\n",
              "</svg>\n",
              "      </button>\n",
              "    </div>\n",
              "\n",
              "<style>\n",
              "  .colab-df-quickchart {\n",
              "    background-color: #E8F0FE;\n",
              "    border: none;\n",
              "    border-radius: 50%;\n",
              "    cursor: pointer;\n",
              "    display: none;\n",
              "    fill: #1967D2;\n",
              "    height: 32px;\n",
              "    padding: 0 0 0 0;\n",
              "    width: 32px;\n",
              "  }\n",
              "\n",
              "  .colab-df-quickchart:hover {\n",
              "    background-color: #E2EBFA;\n",
              "    box-shadow: 0px 1px 2px rgba(60, 64, 67, 0.3), 0px 1px 3px 1px rgba(60, 64, 67, 0.15);\n",
              "    fill: #174EA6;\n",
              "  }\n",
              "\n",
              "  [theme=dark] .colab-df-quickchart {\n",
              "    background-color: #3B4455;\n",
              "    fill: #D2E3FC;\n",
              "  }\n",
              "\n",
              "  [theme=dark] .colab-df-quickchart:hover {\n",
              "    background-color: #434B5C;\n",
              "    box-shadow: 0px 1px 3px 1px rgba(0, 0, 0, 0.15);\n",
              "    filter: drop-shadow(0px 1px 2px rgba(0, 0, 0, 0.3));\n",
              "    fill: #FFFFFF;\n",
              "  }\n",
              "</style>\n",
              "\n",
              "    <script>\n",
              "      async function quickchart(key) {\n",
              "        const containerElement = document.querySelector('#' + key);\n",
              "        const charts = await google.colab.kernel.invokeFunction(\n",
              "            'suggestCharts', [key], {});\n",
              "      }\n",
              "    </script>\n",
              "\n",
              "      <script>\n",
              "\n",
              "function displayQuickchartButton(domScope) {\n",
              "  let quickchartButtonEl =\n",
              "    domScope.querySelector('#df-38905539-86c1-49f0-a14f-32bee64a94ca button.colab-df-quickchart');\n",
              "  quickchartButtonEl.style.display =\n",
              "    google.colab.kernel.accessAllowed ? 'block' : 'none';\n",
              "}\n",
              "\n",
              "        displayQuickchartButton(document);\n",
              "      </script>\n",
              "      <style>\n",
              "    .colab-df-container {\n",
              "      display:flex;\n",
              "      flex-wrap:wrap;\n",
              "      gap: 12px;\n",
              "    }\n",
              "\n",
              "    .colab-df-convert {\n",
              "      background-color: #E8F0FE;\n",
              "      border: none;\n",
              "      border-radius: 50%;\n",
              "      cursor: pointer;\n",
              "      display: none;\n",
              "      fill: #1967D2;\n",
              "      height: 32px;\n",
              "      padding: 0 0 0 0;\n",
              "      width: 32px;\n",
              "    }\n",
              "\n",
              "    .colab-df-convert:hover {\n",
              "      background-color: #E2EBFA;\n",
              "      box-shadow: 0px 1px 2px rgba(60, 64, 67, 0.3), 0px 1px 3px 1px rgba(60, 64, 67, 0.15);\n",
              "      fill: #174EA6;\n",
              "    }\n",
              "\n",
              "    [theme=dark] .colab-df-convert {\n",
              "      background-color: #3B4455;\n",
              "      fill: #D2E3FC;\n",
              "    }\n",
              "\n",
              "    [theme=dark] .colab-df-convert:hover {\n",
              "      background-color: #434B5C;\n",
              "      box-shadow: 0px 1px 3px 1px rgba(0, 0, 0, 0.15);\n",
              "      filter: drop-shadow(0px 1px 2px rgba(0, 0, 0, 0.3));\n",
              "      fill: #FFFFFF;\n",
              "    }\n",
              "  </style>\n",
              "\n",
              "      <script>\n",
              "        const buttonEl =\n",
              "          document.querySelector('#df-40bc7b0e-f58e-4f61-a56c-79ea54033f50 button.colab-df-convert');\n",
              "        buttonEl.style.display =\n",
              "          google.colab.kernel.accessAllowed ? 'block' : 'none';\n",
              "\n",
              "        async function convertToInteractive(key) {\n",
              "          const element = document.querySelector('#df-40bc7b0e-f58e-4f61-a56c-79ea54033f50');\n",
              "          const dataTable =\n",
              "            await google.colab.kernel.invokeFunction('convertToInteractive',\n",
              "                                                     [key], {});\n",
              "          if (!dataTable) return;\n",
              "\n",
              "          const docLinkHtml = 'Like what you see? Visit the ' +\n",
              "            '<a target=\"_blank\" href=https://colab.research.google.com/notebooks/data_table.ipynb>data table notebook</a>'\n",
              "            + ' to learn more about interactive tables.';\n",
              "          element.innerHTML = '';\n",
              "          dataTable['output_type'] = 'display_data';\n",
              "          await google.colab.output.renderOutput(dataTable, element);\n",
              "          const docLink = document.createElement('div');\n",
              "          docLink.innerHTML = docLinkHtml;\n",
              "          element.appendChild(docLink);\n",
              "        }\n",
              "      </script>\n",
              "    </div>\n",
              "  </div>\n"
            ]
          },
          "metadata": {},
          "execution_count": 10
        }
      ]
    },
    {
      "cell_type": "markdown",
      "source": [
        "#### <b><span style='color:#F1A425'>Removing null values</span></b>\n"
      ],
      "metadata": {
        "id": "eolJDx3Cgdto"
      }
    },
    {
      "cell_type": "code",
      "source": [
        "# finding null values in both training and validation data\n",
        "train.isnull().sum()"
      ],
      "metadata": {
        "execution": {
          "iopub.status.busy": "2023-07-29T21:12:14.130064Z",
          "iopub.execute_input": "2023-07-29T21:12:14.130507Z",
          "iopub.status.idle": "2023-07-29T21:12:14.181278Z",
          "shell.execute_reply.started": "2023-07-29T21:12:14.130465Z",
          "shell.execute_reply": "2023-07-29T21:12:14.180192Z"
        },
        "trusted": true,
        "colab": {
          "base_uri": "https://localhost:8080/"
        },
        "id": "TybWq_jagdtp",
        "outputId": "3e012b50-5491-44ac-fbce-b59884c8e642"
      },
      "execution_count": 11,
      "outputs": [
        {
          "output_type": "execute_result",
          "data": {
            "text/plain": [
              "Tweet_ID           0\n",
              "Entity             0\n",
              "Sentiment          0\n",
              "Tweet_content    686\n",
              "dtype: int64"
            ]
          },
          "metadata": {},
          "execution_count": 11
        }
      ]
    },
    {
      "cell_type": "code",
      "source": [
        "validation.isnull().sum()"
      ],
      "metadata": {
        "execution": {
          "iopub.status.busy": "2023-07-29T21:12:14.182579Z",
          "iopub.execute_input": "2023-07-29T21:12:14.182879Z",
          "iopub.status.idle": "2023-07-29T21:12:14.192802Z",
          "shell.execute_reply.started": "2023-07-29T21:12:14.182854Z",
          "shell.execute_reply": "2023-07-29T21:12:14.191981Z"
        },
        "trusted": true,
        "colab": {
          "base_uri": "https://localhost:8080/"
        },
        "id": "BIIjd4Xggdtp",
        "outputId": "a3b787cb-9341-481f-bf16-aa134b1661af"
      },
      "execution_count": 12,
      "outputs": [
        {
          "output_type": "execute_result",
          "data": {
            "text/plain": [
              "Tweet_ID         0\n",
              "Entity           0\n",
              "Sentiment        0\n",
              "Tweet_content    0\n",
              "dtype: int64"
            ]
          },
          "metadata": {},
          "execution_count": 12
        }
      ]
    },
    {
      "cell_type": "code",
      "source": [
        "train.dropna(subset=['Tweet_content'], inplace=True)"
      ],
      "metadata": {
        "execution": {
          "iopub.status.busy": "2023-07-29T21:12:14.194647Z",
          "iopub.execute_input": "2023-07-29T21:12:14.195458Z",
          "iopub.status.idle": "2023-07-29T21:12:14.231792Z",
          "shell.execute_reply.started": "2023-07-29T21:12:14.195417Z",
          "shell.execute_reply": "2023-07-29T21:12:14.230748Z"
        },
        "trusted": true,
        "id": "l-kF4Euwgdtq"
      },
      "execution_count": 13,
      "outputs": []
    },
    {
      "cell_type": "code",
      "source": [
        "train.isnull().sum()"
      ],
      "metadata": {
        "execution": {
          "iopub.status.busy": "2023-07-29T21:12:14.233178Z",
          "iopub.execute_input": "2023-07-29T21:12:14.233596Z",
          "iopub.status.idle": "2023-07-29T21:12:14.293424Z",
          "shell.execute_reply.started": "2023-07-29T21:12:14.233550Z",
          "shell.execute_reply": "2023-07-29T21:12:14.292601Z"
        },
        "trusted": true,
        "colab": {
          "base_uri": "https://localhost:8080/"
        },
        "id": "T8EgmQZdgdtq",
        "outputId": "985827d1-b725-4a16-e5f6-6d4b64b2d8f7"
      },
      "execution_count": 14,
      "outputs": [
        {
          "output_type": "execute_result",
          "data": {
            "text/plain": [
              "Tweet_ID         0\n",
              "Entity           0\n",
              "Sentiment        0\n",
              "Tweet_content    0\n",
              "dtype: int64"
            ]
          },
          "metadata": {},
          "execution_count": 14
        }
      ]
    },
    {
      "cell_type": "markdown",
      "source": [
        "Removed all invalid tweet entries"
      ],
      "metadata": {
        "id": "ddvjaYtLgdtq"
      }
    },
    {
      "cell_type": "markdown",
      "source": [
        "#### <b><span style='color:#F1A425'>Removing duplicates</span></b>\n"
      ],
      "metadata": {
        "id": "4GTTkuyYgdtq"
      }
    },
    {
      "cell_type": "code",
      "source": [
        "train = train.drop_duplicates(subset=['Entity', 'Sentiment', 'Tweet_content'], keep='first')\n",
        "validation = validation.drop_duplicates(subset=['Entity', 'Sentiment', 'Tweet_content'], keep='first')"
      ],
      "metadata": {
        "execution": {
          "iopub.status.busy": "2023-07-29T21:12:14.295408Z",
          "iopub.execute_input": "2023-07-29T21:12:14.295897Z",
          "iopub.status.idle": "2023-07-29T21:12:14.375452Z",
          "shell.execute_reply.started": "2023-07-29T21:12:14.295868Z",
          "shell.execute_reply": "2023-07-29T21:12:14.374283Z"
        },
        "trusted": true,
        "id": "P-Vvn7Bugdtr"
      },
      "execution_count": 15,
      "outputs": []
    },
    {
      "cell_type": "code",
      "source": [
        "column_names = ['Sentence','Sentiment']\n",
        "out_sample = pd.read_csv('{}/twitter_out_sample_data.csv'.format(BASE_PATH),header=None, names = column_names)"
      ],
      "metadata": {
        "id": "S_WcLrBOHFyt"
      },
      "execution_count": 21,
      "outputs": []
    },
    {
      "cell_type": "code",
      "source": [
        "# Convert sentiment to title case\n",
        "out_sample['Sentiment'] = out_sample['Sentiment'].apply(lambda x: x.title())\n",
        "\n",
        "# Convert 30% of neutral to Irrelevant\n",
        "num_rows = out_sample.shape[0]\n",
        "num_neutral_to_change = int(0.3 * num_rows)\n",
        "indices_to_change = random.sample(out_sample[out_sample['Sentiment'] == 'Neutral'].index.tolist(), num_neutral_to_change)\n",
        "out_sample.loc[indices_to_change, 'Sentiment'] = 'Irrelevant'"
      ],
      "metadata": {
        "id": "ptvIymo7HxAm"
      },
      "execution_count": 22,
      "outputs": []
    },
    {
      "cell_type": "code",
      "source": [
        "train.shape"
      ],
      "metadata": {
        "execution": {
          "iopub.status.busy": "2023-07-29T21:12:14.376840Z",
          "iopub.execute_input": "2023-07-29T21:12:14.377500Z",
          "iopub.status.idle": "2023-07-29T21:12:14.385060Z",
          "shell.execute_reply.started": "2023-07-29T21:12:14.377461Z",
          "shell.execute_reply": "2023-07-29T21:12:14.383793Z"
        },
        "trusted": true,
        "colab": {
          "base_uri": "https://localhost:8080/"
        },
        "id": "gWR9vuJBgdtr",
        "outputId": "2e972afe-cbf9-42b5-c9c4-285705e51abf"
      },
      "execution_count": 23,
      "outputs": [
        {
          "output_type": "execute_result",
          "data": {
            "text/plain": [
              "(70958, 4)"
            ]
          },
          "metadata": {},
          "execution_count": 23
        }
      ]
    },
    {
      "cell_type": "markdown",
      "source": [
        "#### <b><span style='color:#F1A425'>Exploring the dataset count of each sentiment</span></b>"
      ],
      "metadata": {
        "id": "M-DHuG1xgdtr"
      }
    },
    {
      "cell_type": "code",
      "source": [
        "train.Sentiment.value_counts()"
      ],
      "metadata": {
        "execution": {
          "iopub.status.busy": "2023-07-29T21:12:14.386580Z",
          "iopub.execute_input": "2023-07-29T21:12:14.387771Z",
          "iopub.status.idle": "2023-07-29T21:12:14.416625Z",
          "shell.execute_reply.started": "2023-07-29T21:12:14.387727Z",
          "shell.execute_reply": "2023-07-29T21:12:14.415620Z"
        },
        "trusted": true,
        "colab": {
          "base_uri": "https://localhost:8080/"
        },
        "id": "lZLwIHMFgdtr",
        "outputId": "21ef080b-4bb5-4e34-8164-f10bbcc07038"
      },
      "execution_count": 24,
      "outputs": [
        {
          "output_type": "execute_result",
          "data": {
            "text/plain": [
              "Negative      21565\n",
              "Positive      19549\n",
              "Neutral       17398\n",
              "Irrelevant    12446\n",
              "Name: Sentiment, dtype: int64"
            ]
          },
          "metadata": {},
          "execution_count": 24
        }
      ]
    },
    {
      "cell_type": "code",
      "source": [
        "validation.Sentiment.value_counts()"
      ],
      "metadata": {
        "execution": {
          "iopub.status.busy": "2023-07-29T21:12:14.421504Z",
          "iopub.execute_input": "2023-07-29T21:12:14.422116Z",
          "iopub.status.idle": "2023-07-29T21:12:14.432376Z",
          "shell.execute_reply.started": "2023-07-29T21:12:14.422074Z",
          "shell.execute_reply": "2023-07-29T21:12:14.431044Z"
        },
        "trusted": true,
        "colab": {
          "base_uri": "https://localhost:8080/"
        },
        "id": "R-F-xhhRgdtr",
        "outputId": "fca1fc1d-275e-46a9-b713-e987b6b90330"
      },
      "execution_count": 25,
      "outputs": [
        {
          "output_type": "execute_result",
          "data": {
            "text/plain": [
              "Neutral       285\n",
              "Positive      277\n",
              "Negative      266\n",
              "Irrelevant    172\n",
              "Name: Sentiment, dtype: int64"
            ]
          },
          "metadata": {},
          "execution_count": 25
        }
      ]
    },
    {
      "cell_type": "code",
      "source": [
        "def get_distribution_sentiment(data, title):\n",
        "    # Calculate the value counts of the 'Sentiment' column\n",
        "    sentiment_counts = data['Sentiment'].value_counts()\n",
        "\n",
        "    # Create a pie chart\n",
        "    plt.pie(sentiment_counts, labels=sentiment_counts.index, autopct='%1.1f%%')\n",
        "\n",
        "    # Add a title\n",
        "    plt.title(f\"Sentiment Distribution {title}\")\n",
        "\n",
        "    # Display the chart;\n",
        "    plt.show()"
      ],
      "metadata": {
        "execution": {
          "iopub.status.busy": "2023-07-29T21:12:14.433668Z",
          "iopub.execute_input": "2023-07-29T21:12:14.434059Z",
          "iopub.status.idle": "2023-07-29T21:12:14.447491Z",
          "shell.execute_reply.started": "2023-07-29T21:12:14.434023Z",
          "shell.execute_reply": "2023-07-29T21:12:14.446223Z"
        },
        "trusted": true,
        "id": "isdoqqEHgdts"
      },
      "execution_count": 26,
      "outputs": []
    },
    {
      "cell_type": "code",
      "source": [
        "get_distribution_sentiment(train, \"train\")"
      ],
      "metadata": {
        "execution": {
          "iopub.status.busy": "2023-07-29T21:12:14.449143Z",
          "iopub.execute_input": "2023-07-29T21:12:14.449584Z",
          "iopub.status.idle": "2023-07-29T21:12:14.660807Z",
          "shell.execute_reply.started": "2023-07-29T21:12:14.449541Z",
          "shell.execute_reply": "2023-07-29T21:12:14.658117Z"
        },
        "trusted": true,
        "colab": {
          "base_uri": "https://localhost:8080/",
          "height": 428
        },
        "id": "xXtro3lBgdts",
        "outputId": "1445cba3-dd02-438c-bd37-24b0861556ed"
      },
      "execution_count": 27,
      "outputs": [
        {
          "output_type": "display_data",
          "data": {
            "text/plain": [
              "<Figure size 640x480 with 1 Axes>"
            ],
            "image/png": "[encoded data removed]"
          },
          "metadata": {}
        }
      ]
    },
    {
      "cell_type": "code",
      "source": [
        "get_distribution_sentiment(validation, \"validation\")"
      ],
      "metadata": {
        "execution": {
          "iopub.status.busy": "2023-07-29T21:12:14.663927Z",
          "iopub.execute_input": "2023-07-29T21:12:14.664434Z",
          "iopub.status.idle": "2023-07-29T21:12:14.828612Z",
          "shell.execute_reply.started": "2023-07-29T21:12:14.664388Z",
          "shell.execute_reply": "2023-07-29T21:12:14.827377Z"
        },
        "trusted": true,
        "colab": {
          "base_uri": "https://localhost:8080/",
          "height": 428
        },
        "id": "Zo8g2I-pgdts",
        "outputId": "b611c950-8b8f-411e-8b72-d40a6f705bed"
      },
      "execution_count": 28,
      "outputs": [
        {
          "output_type": "display_data",
          "data": {
            "text/plain": [
              "<Figure size 640x480 with 1 Axes>"
            ],
            "image/png": "[encoded data removed]"
          },
          "metadata": {}
        }
      ]
    },
    {
      "cell_type": "markdown",
      "source": [
        "### <b><span style='color:#F1A425'>Cleaning the text</span></b>"
      ],
      "metadata": {
        "id": "vBeN5XUPgdts"
      }
    },
    {
      "cell_type": "code",
      "source": [
        "def draw_word_cloud(data, label):\n",
        "    word_cloud_text = ''.join(data[data[\"Sentiment\"]==label].Tweet_content)\n",
        "    wordcloud = WordCloud(\n",
        "        max_font_size=100,\n",
        "        max_words=100,\n",
        "        background_color=\"black\",\n",
        "        scale=10,\n",
        "        width=800,\n",
        "        height=800\n",
        "    ).generate(word_cloud_text)\n",
        "    #Figure properties\n",
        "    plt.figure(figsize=(6,6))\n",
        "    plt.imshow(wordcloud, interpolation=\"bilinear\")\n",
        "    plt.axis(\"off\")\n",
        "    plt.show()"
      ],
      "metadata": {
        "execution": {
          "iopub.status.busy": "2023-07-29T21:12:14.833743Z",
          "iopub.execute_input": "2023-07-29T21:12:14.837129Z",
          "iopub.status.idle": "2023-07-29T21:12:14.845053Z",
          "shell.execute_reply.started": "2023-07-29T21:12:14.837066Z",
          "shell.execute_reply": "2023-07-29T21:12:14.843855Z"
        },
        "trusted": true,
        "id": "uJAQdf-cgdtt"
      },
      "execution_count": 29,
      "outputs": []
    },
    {
      "cell_type": "code",
      "source": [
        "# draw_word_cloud(train, \"Positive\")"
      ],
      "metadata": {
        "execution": {
          "iopub.status.busy": "2023-07-29T21:12:14.846601Z",
          "iopub.execute_input": "2023-07-29T21:12:14.847360Z",
          "iopub.status.idle": "2023-07-29T21:12:25.333496Z",
          "shell.execute_reply.started": "2023-07-29T21:12:14.847317Z",
          "shell.execute_reply": "2023-07-29T21:12:25.332409Z"
        },
        "trusted": true,
        "id": "eXJ8LBgJgdtt"
      },
      "execution_count": 30,
      "outputs": []
    },
    {
      "cell_type": "code",
      "source": [
        "# draw_word_cloud(train, \"Negative\")"
      ],
      "metadata": {
        "execution": {
          "iopub.status.busy": "2023-07-29T21:12:25.334922Z",
          "iopub.execute_input": "2023-07-29T21:12:25.335321Z",
          "iopub.status.idle": "2023-07-29T21:12:35.553464Z",
          "shell.execute_reply.started": "2023-07-29T21:12:25.335286Z",
          "shell.execute_reply": "2023-07-29T21:12:35.551951Z"
        },
        "trusted": true,
        "id": "V6l0qhNpgdtt"
      },
      "execution_count": 31,
      "outputs": []
    },
    {
      "cell_type": "code",
      "source": [
        "# draw_word_cloud(validation, \"Positive\")"
      ],
      "metadata": {
        "execution": {
          "iopub.status.busy": "2023-07-29T21:12:35.554949Z",
          "iopub.execute_input": "2023-07-29T21:12:35.555387Z",
          "iopub.status.idle": "2023-07-29T21:12:44.457830Z",
          "shell.execute_reply.started": "2023-07-29T21:12:35.555347Z",
          "shell.execute_reply": "2023-07-29T21:12:44.456781Z"
        },
        "trusted": true,
        "id": "Xz51E62cgdtt"
      },
      "execution_count": 32,
      "outputs": []
    },
    {
      "cell_type": "code",
      "source": [
        "# draw_word_cloud(validation, \"Negative\")"
      ],
      "metadata": {
        "execution": {
          "iopub.status.busy": "2023-07-29T21:12:44.458990Z",
          "iopub.execute_input": "2023-07-29T21:12:44.459940Z",
          "iopub.status.idle": "2023-07-29T21:12:53.181969Z",
          "shell.execute_reply.started": "2023-07-29T21:12:44.459907Z",
          "shell.execute_reply": "2023-07-29T21:12:53.181203Z"
        },
        "trusted": true,
        "id": "4v6bHthlgdtu"
      },
      "execution_count": 33,
      "outputs": []
    },
    {
      "cell_type": "markdown",
      "source": [
        "### <b><span style='color:#F1A425'>Cleaning the text</span></b>"
      ],
      "metadata": {
        "id": "3ln1YnnIgdtu"
      }
    },
    {
      "cell_type": "code",
      "source": [
        "##CUSTOM DEFINED FUNCTIONS TO CLEAN THE TWEETS\n",
        "\n",
        "nltk.download('stopwords')\n",
        "nltk.download('punkt')\n",
        "stop_words = set(stopwords.words('english'))\n",
        "nltk.download('wordnet')\n",
        "\n",
        "#Clean emojis from text\n",
        "def strip_emoji(text):\n",
        "    emoji_pattern = emoji.demojize(text)\n",
        "    return re.sub(r\":[a-zA-Z_]+:\", \"\", emoji_pattern)\n",
        "\n",
        "#Remove punctuations, links, mentions and \\r\\n new line characters\n",
        "def strip_all_entities(text):\n",
        "    text = text.replace('\\r', '').replace('\\n', ' ').replace('\\n', ' ').lower() #remove \\n and \\r and lowercase\n",
        "    text = re.sub(r\"(?:\\@|https?\\://)\\S+\", \"\", text) #remove links and mentions\n",
        "    text = re.sub(r'[^\\x00-\\x7f]',r'', text) #remove non utf8/ascii characters such as '\\x9a\\x91\\x97\\x9a\\x97'\n",
        "    banned_list= string.punctuation + 'Ã'+'±'+'ã'+'¼'+'â'+'»'+'§'\n",
        "    table = str.maketrans('', '', banned_list)\n",
        "    text = text.translate(table)\n",
        "    return text\n",
        "\n",
        "#clean hashtags at the end of the sentence, and keep those in the middle of the sentence by removing just the # symbol\n",
        "def clean_hashtags(tweet):\n",
        "    new_tweet = \" \".join(word.strip() for word in re.split('#(?!(?:hashtag)\\b)[\\w-]+(?=(?:\\s+#[\\w-]+)*\\s*$)', tweet)) #remove last hashtags\n",
        "    new_tweet2 = \" \".join(word.strip() for word in re.split('#|_', new_tweet)) #remove hashtags symbol from words in the middle of the sentence\n",
        "    without_sw = [word for word in word_tokenize(new_tweet2) if word.lower() not in stop_words]\n",
        "    # Lemmatize\n",
        "    text_len = [WordNetLemmatizer().lemmatize(t) for t in without_sw]\n",
        "    # Stem\n",
        "    text_cleaned = [PorterStemmer().stem(w) for w in text_len]\n",
        "    new_tweet3 = \" \".join(text_cleaned)\n",
        "    return new_tweet3\n",
        "\n",
        "#Filter special characters such as & and $ present in some words\n",
        "def filter_chars(a):\n",
        "    sent = []\n",
        "    for word in a.split(' '):\n",
        "        if ('$' in word) | ('&' in word):\n",
        "            sent.append('')\n",
        "        else:\n",
        "            sent.append(word)\n",
        "    return ' '.join(sent)\n",
        "\n",
        "def remove_mult_spaces(text): # remove multiple spaces\n",
        "    return re.sub(\"\\s\\s+\" , \" \", text)\n",
        "\n",
        "def clean_text(t):\n",
        "    return remove_mult_spaces(filter_chars(clean_hashtags(strip_all_entities(strip_emoji(t)))))"
      ],
      "metadata": {
        "execution": {
          "iopub.status.busy": "2023-07-29T21:37:56.559207Z",
          "iopub.execute_input": "2023-07-29T21:37:56.559606Z",
          "iopub.status.idle": "2023-07-29T21:37:56.570694Z",
          "shell.execute_reply.started": "2023-07-29T21:37:56.559574Z",
          "shell.execute_reply": "2023-07-29T21:37:56.569369Z"
        },
        "trusted": true,
        "id": "DL2LpQYMgdtu",
        "colab": {
          "base_uri": "https://localhost:8080/"
        },
        "outputId": "f4ea318e-1f01-4261-c858-6441b8d61a24"
      },
      "execution_count": 34,
      "outputs": [
        {
          "output_type": "stream",
          "name": "stderr",
          "text": [
            "[nltk_data] Downloading package stopwords to /root/nltk_data...\n",
            "[nltk_data]   Unzipping corpora/stopwords.zip.\n",
            "[nltk_data] Downloading package punkt to /root/nltk_data...\n",
            "[nltk_data]   Unzipping tokenizers/punkt.zip.\n",
            "[nltk_data] Downloading package wordnet to /root/nltk_data...\n"
          ]
        }
      ]
    },
    {
      "cell_type": "code",
      "source": [
        "texts_new = []\n",
        "for t in train.Tweet_content:\n",
        "    texts_new.append(clean_text(t))\n",
        "train['cleaned_tweet'] = [text.lower() for text in texts_new]"
      ],
      "metadata": {
        "execution": {
          "iopub.status.busy": "2023-07-29T22:07:53.415222Z",
          "iopub.execute_input": "2023-07-29T22:07:53.416973Z",
          "iopub.status.idle": "2023-07-29T22:08:08.993152Z",
          "shell.execute_reply.started": "2023-07-29T22:07:53.416921Z",
          "shell.execute_reply": "2023-07-29T22:08:08.991925Z"
        },
        "trusted": true,
        "id": "oLQg2x_3gdtu"
      },
      "execution_count": 35,
      "outputs": []
    },
    {
      "cell_type": "code",
      "source": [
        "texts_new = []\n",
        "for t in validation.Tweet_content:\n",
        "    texts_new.append(clean_text(t))\n",
        "validation['cleaned_tweet'] = texts_new"
      ],
      "metadata": {
        "execution": {
          "iopub.status.busy": "2023-07-29T22:08:08.994929Z",
          "iopub.execute_input": "2023-07-29T22:08:08.995348Z",
          "iopub.status.idle": "2023-07-29T22:08:09.261137Z",
          "shell.execute_reply.started": "2023-07-29T22:08:08.995318Z",
          "shell.execute_reply": "2023-07-29T22:08:09.259855Z"
        },
        "trusted": true,
        "id": "PdyxFbXLgdtu"
      },
      "execution_count": 36,
      "outputs": []
    },
    {
      "cell_type": "code",
      "source": [
        "texts_new = []\n",
        "for t in out_sample.Sentence:\n",
        "    texts_new.append(clean_text(t))\n",
        "out_sample['cleaned_tweet'] = [text.lower() for text in texts_new]"
      ],
      "metadata": {
        "id": "YHEAEZAFHVGw"
      },
      "execution_count": 37,
      "outputs": []
    },
    {
      "cell_type": "markdown",
      "source": [
        "### <b><span style='color:#F1A425'>Checking for tweets less than 1 words after cleaning</span></b>"
      ],
      "metadata": {
        "id": "BZJasaQIgdtv"
      }
    },
    {
      "cell_type": "code",
      "source": [
        "def add_len_cleaned(df):\n",
        "    text_len = []\n",
        "    for text in df.cleaned_tweet:\n",
        "        tweet_len = len(text.split())\n",
        "        text_len.append(tweet_len)\n",
        "    df['text_len'] = text_len\n",
        "    return df"
      ],
      "metadata": {
        "execution": {
          "iopub.status.busy": "2023-07-29T21:40:18.895472Z",
          "iopub.execute_input": "2023-07-29T21:40:18.895902Z",
          "iopub.status.idle": "2023-07-29T21:40:18.901980Z",
          "shell.execute_reply.started": "2023-07-29T21:40:18.895866Z",
          "shell.execute_reply": "2023-07-29T21:40:18.900864Z"
        },
        "trusted": true,
        "id": "ZNsCEm29gdtv"
      },
      "execution_count": 38,
      "outputs": []
    },
    {
      "cell_type": "code",
      "source": [
        "train = add_len_cleaned(train).copy()"
      ],
      "metadata": {
        "execution": {
          "iopub.status.busy": "2023-07-29T22:08:57.780102Z",
          "iopub.execute_input": "2023-07-29T22:08:57.780519Z",
          "iopub.status.idle": "2023-07-29T22:08:57.914860Z",
          "shell.execute_reply.started": "2023-07-29T22:08:57.780488Z",
          "shell.execute_reply": "2023-07-29T22:08:57.913958Z"
        },
        "trusted": true,
        "id": "HPnbwOmTgdtv"
      },
      "execution_count": 39,
      "outputs": []
    },
    {
      "cell_type": "code",
      "source": [
        "validation = add_len_cleaned(validation).copy()"
      ],
      "metadata": {
        "execution": {
          "iopub.status.busy": "2023-07-29T22:09:00.206256Z",
          "iopub.execute_input": "2023-07-29T22:09:00.207299Z",
          "iopub.status.idle": "2023-07-29T22:09:00.217455Z",
          "shell.execute_reply.started": "2023-07-29T22:09:00.207257Z",
          "shell.execute_reply": "2023-07-29T22:09:00.216196Z"
        },
        "trusted": true,
        "id": "4jD2WiS7gdtv"
      },
      "execution_count": 40,
      "outputs": []
    },
    {
      "cell_type": "code",
      "source": [
        "def plot_tweets(df, words = 10):\n",
        "    plt.figure(figsize=(7,5))\n",
        "    ax = sns.countplot(x='text_len', data=df[df['text_len']<10], palette='mako')\n",
        "    plt.title('Training tweets with less than 10 words')\n",
        "    plt.yticks([])\n",
        "    ax.bar_label(ax.containers[0])\n",
        "    plt.ylabel('count')\n",
        "    plt.xlabel('')\n",
        "    plt.show()"
      ],
      "metadata": {
        "execution": {
          "iopub.status.busy": "2023-07-29T21:41:16.253892Z",
          "iopub.execute_input": "2023-07-29T21:41:16.254332Z",
          "iopub.status.idle": "2023-07-29T21:41:16.261757Z",
          "shell.execute_reply.started": "2023-07-29T21:41:16.254295Z",
          "shell.execute_reply": "2023-07-29T21:41:16.260268Z"
        },
        "trusted": true,
        "id": "0P3uG4Bmgdtv"
      },
      "execution_count": 41,
      "outputs": []
    },
    {
      "cell_type": "code",
      "source": [
        "import seaborn as sns"
      ],
      "metadata": {
        "execution": {
          "iopub.status.busy": "2023-07-29T21:41:45.898393Z",
          "iopub.execute_input": "2023-07-29T21:41:45.898776Z",
          "iopub.status.idle": "2023-07-29T21:41:46.892853Z",
          "shell.execute_reply.started": "2023-07-29T21:41:45.898746Z",
          "shell.execute_reply": "2023-07-29T21:41:46.891655Z"
        },
        "trusted": true,
        "id": "a0zZURh0gdtv"
      },
      "execution_count": 42,
      "outputs": []
    },
    {
      "cell_type": "code",
      "source": [
        "plot_tweets(train)"
      ],
      "metadata": {
        "execution": {
          "iopub.status.busy": "2023-07-29T22:09:04.561740Z",
          "iopub.execute_input": "2023-07-29T22:09:04.562132Z",
          "iopub.status.idle": "2023-07-29T22:09:04.732570Z",
          "shell.execute_reply.started": "2023-07-29T22:09:04.562102Z",
          "shell.execute_reply": "2023-07-29T22:09:04.731233Z"
        },
        "trusted": true,
        "id": "9C96e5_Igdtw",
        "colab": {
          "base_uri": "https://localhost:8080/",
          "height": 468
        },
        "outputId": "9b6a95bb-ebbd-45de-a539-d567be22138f"
      },
      "execution_count": 43,
      "outputs": [
        {
          "output_type": "display_data",
          "data": {
            "text/plain": [
              "<Figure size 700x500 with 1 Axes>"
            ],
            "image/png": "[encoded data removed]"
          },
          "metadata": {}
        }
      ]
    },
    {
      "cell_type": "code",
      "source": [
        "plot_tweets(validation)"
      ],
      "metadata": {
        "execution": {
          "iopub.status.busy": "2023-07-29T22:09:07.122325Z",
          "iopub.execute_input": "2023-07-29T22:09:07.122983Z",
          "iopub.status.idle": "2023-07-29T22:09:07.289593Z",
          "shell.execute_reply.started": "2023-07-29T22:09:07.122941Z",
          "shell.execute_reply": "2023-07-29T22:09:07.288641Z"
        },
        "trusted": true,
        "id": "l8WgkgGggdtw",
        "colab": {
          "base_uri": "https://localhost:8080/",
          "height": 468
        },
        "outputId": "594d097a-f093-45a9-e96c-c3acc0cef351"
      },
      "execution_count": 44,
      "outputs": [
        {
          "output_type": "display_data",
          "data": {
            "text/plain": [
              "<Figure size 700x500 with 1 Axes>"
            ],
            "image/png": "[encoded data removed]"
          },
          "metadata": {}
        }
      ]
    },
    {
      "cell_type": "code",
      "source": [
        "train.shape"
      ],
      "metadata": {
        "execution": {
          "iopub.status.busy": "2023-07-29T22:09:14.784365Z",
          "iopub.execute_input": "2023-07-29T22:09:14.784756Z",
          "iopub.status.idle": "2023-07-29T22:09:14.792138Z",
          "shell.execute_reply.started": "2023-07-29T22:09:14.784725Z",
          "shell.execute_reply": "2023-07-29T22:09:14.790918Z"
        },
        "trusted": true,
        "id": "qFLimZfKgdtw",
        "colab": {
          "base_uri": "https://localhost:8080/"
        },
        "outputId": "b6832a89-3bcd-48ab-f8ec-4aeb3e0fc951"
      },
      "execution_count": 45,
      "outputs": [
        {
          "output_type": "execute_result",
          "data": {
            "text/plain": [
              "(70958, 6)"
            ]
          },
          "metadata": {},
          "execution_count": 45
        }
      ]
    },
    {
      "cell_type": "code",
      "source": [
        "validation.shape"
      ],
      "metadata": {
        "execution": {
          "iopub.status.busy": "2023-07-29T22:09:16.009942Z",
          "iopub.execute_input": "2023-07-29T22:09:16.011080Z",
          "iopub.status.idle": "2023-07-29T22:09:16.017797Z",
          "shell.execute_reply.started": "2023-07-29T22:09:16.011037Z",
          "shell.execute_reply": "2023-07-29T22:09:16.016431Z"
        },
        "trusted": true,
        "id": "DocgafLlgdtw",
        "colab": {
          "base_uri": "https://localhost:8080/"
        },
        "outputId": "60a65f83-797d-463f-9179-37b3ee037d08"
      },
      "execution_count": 46,
      "outputs": [
        {
          "output_type": "execute_result",
          "data": {
            "text/plain": [
              "(1000, 6)"
            ]
          },
          "metadata": {},
          "execution_count": 46
        }
      ]
    },
    {
      "cell_type": "code",
      "source": [
        "train = train[train['text_len'] > 4]\n",
        "train.shape"
      ],
      "metadata": {
        "execution": {
          "iopub.status.busy": "2023-07-29T22:09:19.755763Z",
          "iopub.execute_input": "2023-07-29T22:09:19.756145Z",
          "iopub.status.idle": "2023-07-29T22:09:19.773619Z",
          "shell.execute_reply.started": "2023-07-29T22:09:19.756116Z",
          "shell.execute_reply": "2023-07-29T22:09:19.772482Z"
        },
        "trusted": true,
        "id": "RJP3DJMJgdtw",
        "colab": {
          "base_uri": "https://localhost:8080/"
        },
        "outputId": "94ccc150-9219-4378-ba47-6ae499886630"
      },
      "execution_count": 47,
      "outputs": [
        {
          "output_type": "execute_result",
          "data": {
            "text/plain": [
              "(55642, 6)"
            ]
          },
          "metadata": {},
          "execution_count": 47
        }
      ]
    },
    {
      "cell_type": "code",
      "source": [
        "validation = validation[validation['text_len'] > 4]\n",
        "validation.shape"
      ],
      "metadata": {
        "execution": {
          "iopub.status.busy": "2023-07-29T22:09:21.268092Z",
          "iopub.execute_input": "2023-07-29T22:09:21.268599Z",
          "iopub.status.idle": "2023-07-29T22:09:21.277207Z",
          "shell.execute_reply.started": "2023-07-29T22:09:21.268553Z",
          "shell.execute_reply": "2023-07-29T22:09:21.276346Z"
        },
        "trusted": true,
        "id": "DuUbgufAgdtx",
        "colab": {
          "base_uri": "https://localhost:8080/"
        },
        "outputId": "9acc889f-5421-4340-8b81-ae4eb2959ca4"
      },
      "execution_count": 48,
      "outputs": [
        {
          "output_type": "execute_result",
          "data": {
            "text/plain": [
              "(848, 6)"
            ]
          },
          "metadata": {},
          "execution_count": 48
        }
      ]
    },
    {
      "cell_type": "code",
      "source": [
        "train_shuffled = train.sample(frac=1, random_state=42)  # Set a random_state for reproducibility\n",
        "n_train_samples = int(len(train) * 0.8)\n",
        "\n",
        "# Split the DataFrame into training and test sets\n",
        "train = train_shuffled.iloc[:n_train_samples]\n",
        "test = train_shuffled.iloc[n_train_samples:]\n",
        "\n",
        "# Optional: Reset the DataFrame index\n",
        "train.reset_index(drop=True, inplace=True)\n",
        "test.reset_index(drop=True, inplace=True)"
      ],
      "metadata": {
        "execution": {
          "iopub.status.busy": "2023-07-29T22:31:53.589958Z",
          "iopub.execute_input": "2023-07-29T22:31:53.591009Z",
          "iopub.status.idle": "2023-07-29T22:31:53.612200Z",
          "shell.execute_reply.started": "2023-07-29T22:31:53.590954Z",
          "shell.execute_reply": "2023-07-29T22:31:53.611027Z"
        },
        "trusted": true,
        "id": "aM-empE-gdtx"
      },
      "execution_count": 49,
      "outputs": []
    },
    {
      "cell_type": "code",
      "source": [
        "train.shape"
      ],
      "metadata": {
        "execution": {
          "iopub.status.busy": "2023-07-29T22:31:56.228914Z",
          "iopub.execute_input": "2023-07-29T22:31:56.229388Z",
          "iopub.status.idle": "2023-07-29T22:31:56.236686Z",
          "shell.execute_reply.started": "2023-07-29T22:31:56.229351Z",
          "shell.execute_reply": "2023-07-29T22:31:56.235396Z"
        },
        "trusted": true,
        "id": "dWFx0XTMgdtx",
        "colab": {
          "base_uri": "https://localhost:8080/"
        },
        "outputId": "6bfe3bfb-9701-43b1-a710-5a2881d5d03c"
      },
      "execution_count": 50,
      "outputs": [
        {
          "output_type": "execute_result",
          "data": {
            "text/plain": [
              "(44513, 6)"
            ]
          },
          "metadata": {},
          "execution_count": 50
        }
      ]
    },
    {
      "cell_type": "code",
      "source": [
        "test.shape"
      ],
      "metadata": {
        "execution": {
          "iopub.status.busy": "2023-07-29T22:31:57.345661Z",
          "iopub.execute_input": "2023-07-29T22:31:57.346849Z",
          "iopub.status.idle": "2023-07-29T22:31:57.355374Z",
          "shell.execute_reply.started": "2023-07-29T22:31:57.346801Z",
          "shell.execute_reply": "2023-07-29T22:31:57.354377Z"
        },
        "trusted": true,
        "id": "5iBkJb-Igdtx",
        "colab": {
          "base_uri": "https://localhost:8080/"
        },
        "outputId": "665977fe-a4cd-46aa-caf8-fca29db30a74"
      },
      "execution_count": 51,
      "outputs": [
        {
          "output_type": "execute_result",
          "data": {
            "text/plain": [
              "(11129, 6)"
            ]
          },
          "metadata": {},
          "execution_count": 51
        }
      ]
    },
    {
      "cell_type": "code",
      "source": [
        "train.head(10)"
      ],
      "metadata": {
        "id": "8C89T2HphxS1",
        "colab": {
          "base_uri": "https://localhost:8080/",
          "height": 363
        },
        "outputId": "be572f94-ef82-4c2d-f11c-b495dd9e7608"
      },
      "execution_count": 52,
      "outputs": [
        {
          "output_type": "execute_result",
          "data": {
            "text/plain": [
              "   Tweet_ID             Entity   Sentiment  \\\n",
              "0      1580        Battlefield     Neutral   \n",
              "1     13193      Xbox(Xseries)    Negative   \n",
              "2      7873          MaddenNFL    Negative   \n",
              "3      9915  PlayStation5(PS5)     Neutral   \n",
              "4      8264          Microsoft    Positive   \n",
              "5      2276         CallOfDuty  Irrelevant   \n",
              "6      6356               FIFA  Irrelevant   \n",
              "7      3225           Facebook     Neutral   \n",
              "8      3104              Dota2  Irrelevant   \n",
              "9      3272           Facebook    Positive   \n",
              "\n",
              "                                       Tweet_content  \\\n",
              "0  Lunge mine is Jungle carabin + mate = The funn...   \n",
              "1  x box won't catch me till they change this con...   \n",
              "2  @ EAMaddenNFL Ask how a 91ovr team that is sup...   \n",
              "3  Facts, bitch who can ’ t even get that ps5. Wa...   \n",
              "4  @ Ronnie2K but that's fine I don't think @ mic...   \n",
              "5  . Florida family says a Philadelphia police of...   \n",
              "6  Shame @ weemanronza should have got me in the ...   \n",
              "7  Discover our amazing children's products at da...   \n",
              "8  HAHAHA \" 100 % is TI a winrate \".. but That'i ...   \n",
              "9  Facebook showed me this picture from 3 years a...   \n",
              "\n",
              "                                       cleaned_tweet  text_len  \n",
              "0  lung mine jungl carabin mate funniest solut xd...        10  \n",
              "1               x box wont catch till chang contract         7  \n",
              "2  eamaddennfl ask 91ovr team suppos compet 99ovr...        27  \n",
              "3                   fact bitch even get ps5 wait lol         7  \n",
              "4  ronnie2k that fine dont think microsoft xboxsu...        11  \n",
              "5  florida famili say philadelphia polic offic we...        18  \n",
              "6  shame weemanronza got first round fifa tournam...        13  \n",
              "7  discov amaz children product darlyngandcocom p...        12  \n",
              "8  hahaha 100 ti winrat thati great test stat rig...        10  \n",
              "9  facebook show pictur 3 year ago one red backpa...        25  "
            ],
            "text/html": [
              "\n",
              "\n",
              "  <div id=\"df-5aef10a7-c0e8-4c66-8790-aed700a24c35\">\n",
              "    <div class=\"colab-df-container\">\n",
              "      <div>\n",
              "<style scoped>\n",
              "    .dataframe tbody tr th:only-of-type {\n",
              "        vertical-align: middle;\n",
              "    }\n",
              "\n",
              "    .dataframe tbody tr th {\n",
              "        vertical-align: top;\n",
              "    }\n",
              "\n",
              "    .dataframe thead th {\n",
              "        text-align: right;\n",
              "    }\n",
              "</style>\n",
              "<table border=\"1\" class=\"dataframe\">\n",
              "  <thead>\n",
              "    <tr style=\"text-align: right;\">\n",
              "      <th></th>\n",
              "      <th>Tweet_ID</th>\n",
              "      <th>Entity</th>\n",
              "      <th>Sentiment</th>\n",
              "      <th>Tweet_content</th>\n",
              "      <th>cleaned_tweet</th>\n",
              "      <th>text_len</th>\n",
              "    </tr>\n",
              "  </thead>\n",
              "  <tbody>\n",
              "    <tr>\n",
              "      <th>0</th>\n",
              "      <td>1580</td>\n",
              "      <td>Battlefield</td>\n",
              "      <td>Neutral</td>\n",
              "      <td>Lunge mine is Jungle carabin + mate = The funn...</td>\n",
              "      <td>lung mine jungl carabin mate funniest solut xd...</td>\n",
              "      <td>10</td>\n",
              "    </tr>\n",
              "    <tr>\n",
              "      <th>1</th>\n",
              "      <td>13193</td>\n",
              "      <td>Xbox(Xseries)</td>\n",
              "      <td>Negative</td>\n",
              "      <td>x box won't catch me till they change this con...</td>\n",
              "      <td>x box wont catch till chang contract</td>\n",
              "      <td>7</td>\n",
              "    </tr>\n",
              "    <tr>\n",
              "      <th>2</th>\n",
              "      <td>7873</td>\n",
              "      <td>MaddenNFL</td>\n",
              "      <td>Negative</td>\n",
              "      <td>@ EAMaddenNFL Ask how a 91ovr team that is sup...</td>\n",
              "      <td>eamaddennfl ask 91ovr team suppos compet 99ovr...</td>\n",
              "      <td>27</td>\n",
              "    </tr>\n",
              "    <tr>\n",
              "      <th>3</th>\n",
              "      <td>9915</td>\n",
              "      <td>PlayStation5(PS5)</td>\n",
              "      <td>Neutral</td>\n",
              "      <td>Facts, bitch who can ’ t even get that ps5. Wa...</td>\n",
              "      <td>fact bitch even get ps5 wait lol</td>\n",
              "      <td>7</td>\n",
              "    </tr>\n",
              "    <tr>\n",
              "      <th>4</th>\n",
              "      <td>8264</td>\n",
              "      <td>Microsoft</td>\n",
              "      <td>Positive</td>\n",
              "      <td>@ Ronnie2K but that's fine I don't think @ mic...</td>\n",
              "      <td>ronnie2k that fine dont think microsoft xboxsu...</td>\n",
              "      <td>11</td>\n",
              "    </tr>\n",
              "    <tr>\n",
              "      <th>5</th>\n",
              "      <td>2276</td>\n",
              "      <td>CallOfDuty</td>\n",
              "      <td>Irrelevant</td>\n",
              "      <td>. Florida family says a Philadelphia police of...</td>\n",
              "      <td>florida famili say philadelphia polic offic we...</td>\n",
              "      <td>18</td>\n",
              "    </tr>\n",
              "    <tr>\n",
              "      <th>6</th>\n",
              "      <td>6356</td>\n",
              "      <td>FIFA</td>\n",
              "      <td>Irrelevant</td>\n",
              "      <td>Shame @ weemanronza should have got me in the ...</td>\n",
              "      <td>shame weemanronza got first round fifa tournam...</td>\n",
              "      <td>13</td>\n",
              "    </tr>\n",
              "    <tr>\n",
              "      <th>7</th>\n",
              "      <td>3225</td>\n",
              "      <td>Facebook</td>\n",
              "      <td>Neutral</td>\n",
              "      <td>Discover our amazing children's products at da...</td>\n",
              "      <td>discov amaz children product darlyngandcocom p...</td>\n",
              "      <td>12</td>\n",
              "    </tr>\n",
              "    <tr>\n",
              "      <th>8</th>\n",
              "      <td>3104</td>\n",
              "      <td>Dota2</td>\n",
              "      <td>Irrelevant</td>\n",
              "      <td>HAHAHA \" 100 % is TI a winrate \".. but That'i ...</td>\n",
              "      <td>hahaha 100 ti winrat thati great test stat rig...</td>\n",
              "      <td>10</td>\n",
              "    </tr>\n",
              "    <tr>\n",
              "      <th>9</th>\n",
              "      <td>3272</td>\n",
              "      <td>Facebook</td>\n",
              "      <td>Positive</td>\n",
              "      <td>Facebook showed me this picture from 3 years a...</td>\n",
              "      <td>facebook show pictur 3 year ago one red backpa...</td>\n",
              "      <td>25</td>\n",
              "    </tr>\n",
              "  </tbody>\n",
              "</table>\n",
              "</div>\n",
              "      <button class=\"colab-df-convert\" onclick=\"convertToInteractive('df-5aef10a7-c0e8-4c66-8790-aed700a24c35')\"\n",
              "              title=\"Convert this dataframe to an interactive table.\"\n",
              "              style=\"display:none;\">\n",
              "\n",
              "  <svg xmlns=\"http://www.w3.org/2000/svg\" height=\"24px\"viewBox=\"0 0 24 24\"\n",
              "       width=\"24px\">\n",
              "    <path d=\"M0 0h24v24H0V0z\" fill=\"none\"/>\n",
              "    <path d=\"M18.56 5.44l.94 2.06.94-2.06 2.06-.94-2.06-.94-.94-2.06-.94 2.06-2.06.94zm-11 1L8.5 8.5l.94-2.06 2.06-.94-2.06-.94L8.5 2.5l-.94 2.06-2.06.94zm10 10l.94 2.06.94-2.06 2.06-.94-2.06-.94-.94-2.06-.94 2.06-2.06.94z\"/><path d=\"M17.41 7.96l-1.37-1.37c-.4-.4-.92-.59-1.43-.59-.52 0-1.04.2-1.43.59L10.3 9.45l-7.72 7.72c-.78.78-.78 2.05 0 2.83L4 21.41c.39.39.9.59 1.41.59.51 0 1.02-.2 1.41-.59l7.78-7.78 2.81-2.81c.8-.78.8-2.07 0-2.86zM5.41 20L4 18.59l7.72-7.72 1.47 1.35L5.41 20z\"/>\n",
              "  </svg>\n",
              "      </button>\n",
              "\n",
              "\n",
              "\n",
              "    <div id=\"df-f851daa7-bf53-491f-945e-f2a2dda73eee\">\n",
              "      <button class=\"colab-df-quickchart\" onclick=\"quickchart('df-f851daa7-bf53-491f-945e-f2a2dda73eee')\"\n",
              "              title=\"Suggest charts.\"\n",
              "              style=\"display:none;\">\n",
              "\n",
              "<svg xmlns=\"http://www.w3.org/2000/svg\" height=\"24px\"viewBox=\"0 0 24 24\"\n",
              "     width=\"24px\">\n",
              "    <g>\n",
              "        <path d=\"M19 3H5c-1.1 0-2 .9-2 2v14c0 1.1.9 2 2 2h14c1.1 0 2-.9 2-2V5c0-1.1-.9-2-2-2zM9 17H7v-7h2v7zm4 0h-2V7h2v10zm4 0h-2v-4h2v4z\"/>\n",
              "    </g>\n",
              "</svg>\n",
              "      </button>\n",
              "    </div>\n",
              "\n",
              "<style>\n",
              "  .colab-df-quickchart {\n",
              "    background-color: #E8F0FE;\n",
              "    border: none;\n",
              "    border-radius: 50%;\n",
              "    cursor: pointer;\n",
              "    display: none;\n",
              "    fill: #1967D2;\n",
              "    height: 32px;\n",
              "    padding: 0 0 0 0;\n",
              "    width: 32px;\n",
              "  }\n",
              "\n",
              "  .colab-df-quickchart:hover {\n",
              "    background-color: #E2EBFA;\n",
              "    box-shadow: 0px 1px 2px rgba(60, 64, 67, 0.3), 0px 1px 3px 1px rgba(60, 64, 67, 0.15);\n",
              "    fill: #174EA6;\n",
              "  }\n",
              "\n",
              "  [theme=dark] .colab-df-quickchart {\n",
              "    background-color: #3B4455;\n",
              "    fill: #D2E3FC;\n",
              "  }\n",
              "\n",
              "  [theme=dark] .colab-df-quickchart:hover {\n",
              "    background-color: #434B5C;\n",
              "    box-shadow: 0px 1px 3px 1px rgba(0, 0, 0, 0.15);\n",
              "    filter: drop-shadow(0px 1px 2px rgba(0, 0, 0, 0.3));\n",
              "    fill: #FFFFFF;\n",
              "  }\n",
              "</style>\n",
              "\n",
              "    <script>\n",
              "      async function quickchart(key) {\n",
              "        const containerElement = document.querySelector('#' + key);\n",
              "        const charts = await google.colab.kernel.invokeFunction(\n",
              "            'suggestCharts', [key], {});\n",
              "      }\n",
              "    </script>\n",
              "\n",
              "      <script>\n",
              "\n",
              "function displayQuickchartButton(domScope) {\n",
              "  let quickchartButtonEl =\n",
              "    domScope.querySelector('#df-f851daa7-bf53-491f-945e-f2a2dda73eee button.colab-df-quickchart');\n",
              "  quickchartButtonEl.style.display =\n",
              "    google.colab.kernel.accessAllowed ? 'block' : 'none';\n",
              "}\n",
              "\n",
              "        displayQuickchartButton(document);\n",
              "      </script>\n",
              "      <style>\n",
              "    .colab-df-container {\n",
              "      display:flex;\n",
              "      flex-wrap:wrap;\n",
              "      gap: 12px;\n",
              "    }\n",
              "\n",
              "    .colab-df-convert {\n",
              "      background-color: #E8F0FE;\n",
              "      border: none;\n",
              "      border-radius: 50%;\n",
              "      cursor: pointer;\n",
              "      display: none;\n",
              "      fill: #1967D2;\n",
              "      height: 32px;\n",
              "      padding: 0 0 0 0;\n",
              "      width: 32px;\n",
              "    }\n",
              "\n",
              "    .colab-df-convert:hover {\n",
              "      background-color: #E2EBFA;\n",
              "      box-shadow: 0px 1px 2px rgba(60, 64, 67, 0.3), 0px 1px 3px 1px rgba(60, 64, 67, 0.15);\n",
              "      fill: #174EA6;\n",
              "    }\n",
              "\n",
              "    [theme=dark] .colab-df-convert {\n",
              "      background-color: #3B4455;\n",
              "      fill: #D2E3FC;\n",
              "    }\n",
              "\n",
              "    [theme=dark] .colab-df-convert:hover {\n",
              "      background-color: #434B5C;\n",
              "      box-shadow: 0px 1px 3px 1px rgba(0, 0, 0, 0.15);\n",
              "      filter: drop-shadow(0px 1px 2px rgba(0, 0, 0, 0.3));\n",
              "      fill: #FFFFFF;\n",
              "    }\n",
              "  </style>\n",
              "\n",
              "      <script>\n",
              "        const buttonEl =\n",
              "          document.querySelector('#df-5aef10a7-c0e8-4c66-8790-aed700a24c35 button.colab-df-convert');\n",
              "        buttonEl.style.display =\n",
              "          google.colab.kernel.accessAllowed ? 'block' : 'none';\n",
              "\n",
              "        async function convertToInteractive(key) {\n",
              "          const element = document.querySelector('#df-5aef10a7-c0e8-4c66-8790-aed700a24c35');\n",
              "          const dataTable =\n",
              "            await google.colab.kernel.invokeFunction('convertToInteractive',\n",
              "                                                     [key], {});\n",
              "          if (!dataTable) return;\n",
              "\n",
              "          const docLinkHtml = 'Like what you see? Visit the ' +\n",
              "            '<a target=\"_blank\" href=https://colab.research.google.com/notebooks/data_table.ipynb>data table notebook</a>'\n",
              "            + ' to learn more about interactive tables.';\n",
              "          element.innerHTML = '';\n",
              "          dataTable['output_type'] = 'display_data';\n",
              "          await google.colab.output.renderOutput(dataTable, element);\n",
              "          const docLink = document.createElement('div');\n",
              "          docLink.innerHTML = docLinkHtml;\n",
              "          element.appendChild(docLink);\n",
              "        }\n",
              "      </script>\n",
              "    </div>\n",
              "  </div>\n"
            ]
          },
          "metadata": {},
          "execution_count": 52
        }
      ]
    },
    {
      "cell_type": "code",
      "source": [
        "# Label encoding sentiments\n",
        "\n",
        "lb = preprocessing.LabelEncoder()\n",
        "train[\"Sentiment\"] = lb.fit_transform(train[\"Sentiment\"])\n",
        "validation[\"Sentiment\"] = lb.fit_transform(validation[\"Sentiment\"])\n",
        "test[\"Sentiment\"] = lb.fit_transform(test[\"Sentiment\"])\n",
        "out_sample[\"Sentiment\"] = lb.fit_transform(out_sample[\"Sentiment\"])"
      ],
      "metadata": {
        "id": "-7VqRB4krIL7",
        "outputId": "63c929eb-744a-4962-c6f8-de1bda1543a6",
        "colab": {
          "base_uri": "https://localhost:8080/"
        }
      },
      "execution_count": 53,
      "outputs": [
        {
          "output_type": "stream",
          "name": "stderr",
          "text": [
            "<ipython-input-53-df84299c4c78>:4: SettingWithCopyWarning: \n",
            "A value is trying to be set on a copy of a slice from a DataFrame.\n",
            "Try using .loc[row_indexer,col_indexer] = value instead\n",
            "\n",
            "See the caveats in the documentation: https://pandas.pydata.org/pandas-docs/stable/user_guide/indexing.html#returning-a-view-versus-a-copy\n",
            "  train[\"Sentiment\"] = lb.fit_transform(train[\"Sentiment\"])\n",
            "<ipython-input-53-df84299c4c78>:6: SettingWithCopyWarning: \n",
            "A value is trying to be set on a copy of a slice from a DataFrame.\n",
            "Try using .loc[row_indexer,col_indexer] = value instead\n",
            "\n",
            "See the caveats in the documentation: https://pandas.pydata.org/pandas-docs/stable/user_guide/indexing.html#returning-a-view-versus-a-copy\n",
            "  test[\"Sentiment\"] = lb.fit_transform(test[\"Sentiment\"])\n"
          ]
        }
      ]
    },
    {
      "cell_type": "code",
      "source": [
        "# Checking labels\n",
        "lb.classes_"
      ],
      "metadata": {
        "id": "6zbTWQB_iNr2",
        "colab": {
          "base_uri": "https://localhost:8080/"
        },
        "outputId": "6dbd287d-bc8e-4eb0-f860-b15dec0950f5"
      },
      "execution_count": 54,
      "outputs": [
        {
          "output_type": "execute_result",
          "data": {
            "text/plain": [
              "array(['Irrelevant', 'Negative', 'Neutral', 'Positive', 'Sentiment'],\n",
              "      dtype=object)"
            ]
          },
          "metadata": {},
          "execution_count": 54
        }
      ]
    },
    {
      "cell_type": "code",
      "source": [
        "train.head(10)"
      ],
      "metadata": {
        "id": "fHx74qTTh0Ee",
        "colab": {
          "base_uri": "https://localhost:8080/",
          "height": 363
        },
        "outputId": "50e5d49b-148e-45e8-ada6-e77487750bcb"
      },
      "execution_count": 55,
      "outputs": [
        {
          "output_type": "execute_result",
          "data": {
            "text/plain": [
              "   Tweet_ID             Entity  Sentiment  \\\n",
              "0      1580        Battlefield          2   \n",
              "1     13193      Xbox(Xseries)          1   \n",
              "2      7873          MaddenNFL          1   \n",
              "3      9915  PlayStation5(PS5)          2   \n",
              "4      8264          Microsoft          3   \n",
              "5      2276         CallOfDuty          0   \n",
              "6      6356               FIFA          0   \n",
              "7      3225           Facebook          2   \n",
              "8      3104              Dota2          0   \n",
              "9      3272           Facebook          3   \n",
              "\n",
              "                                       Tweet_content  \\\n",
              "0  Lunge mine is Jungle carabin + mate = The funn...   \n",
              "1  x box won't catch me till they change this con...   \n",
              "2  @ EAMaddenNFL Ask how a 91ovr team that is sup...   \n",
              "3  Facts, bitch who can ’ t even get that ps5. Wa...   \n",
              "4  @ Ronnie2K but that's fine I don't think @ mic...   \n",
              "5  . Florida family says a Philadelphia police of...   \n",
              "6  Shame @ weemanronza should have got me in the ...   \n",
              "7  Discover our amazing children's products at da...   \n",
              "8  HAHAHA \" 100 % is TI a winrate \".. but That'i ...   \n",
              "9  Facebook showed me this picture from 3 years a...   \n",
              "\n",
              "                                       cleaned_tweet  text_len  \n",
              "0  lung mine jungl carabin mate funniest solut xd...        10  \n",
              "1               x box wont catch till chang contract         7  \n",
              "2  eamaddennfl ask 91ovr team suppos compet 99ovr...        27  \n",
              "3                   fact bitch even get ps5 wait lol         7  \n",
              "4  ronnie2k that fine dont think microsoft xboxsu...        11  \n",
              "5  florida famili say philadelphia polic offic we...        18  \n",
              "6  shame weemanronza got first round fifa tournam...        13  \n",
              "7  discov amaz children product darlyngandcocom p...        12  \n",
              "8  hahaha 100 ti winrat thati great test stat rig...        10  \n",
              "9  facebook show pictur 3 year ago one red backpa...        25  "
            ],
            "text/html": [
              "\n",
              "\n",
              "  <div id=\"df-7b59127f-f458-4637-8815-eb58969ef92b\">\n",
              "    <div class=\"colab-df-container\">\n",
              "      <div>\n",
              "<style scoped>\n",
              "    .dataframe tbody tr th:only-of-type {\n",
              "        vertical-align: middle;\n",
              "    }\n",
              "\n",
              "    .dataframe tbody tr th {\n",
              "        vertical-align: top;\n",
              "    }\n",
              "\n",
              "    .dataframe thead th {\n",
              "        text-align: right;\n",
              "    }\n",
              "</style>\n",
              "<table border=\"1\" class=\"dataframe\">\n",
              "  <thead>\n",
              "    <tr style=\"text-align: right;\">\n",
              "      <th></th>\n",
              "      <th>Tweet_ID</th>\n",
              "      <th>Entity</th>\n",
              "      <th>Sentiment</th>\n",
              "      <th>Tweet_content</th>\n",
              "      <th>cleaned_tweet</th>\n",
              "      <th>text_len</th>\n",
              "    </tr>\n",
              "  </thead>\n",
              "  <tbody>\n",
              "    <tr>\n",
              "      <th>0</th>\n",
              "      <td>1580</td>\n",
              "      <td>Battlefield</td>\n",
              "      <td>2</td>\n",
              "      <td>Lunge mine is Jungle carabin + mate = The funn...</td>\n",
              "      <td>lung mine jungl carabin mate funniest solut xd...</td>\n",
              "      <td>10</td>\n",
              "    </tr>\n",
              "    <tr>\n",
              "      <th>1</th>\n",
              "      <td>13193</td>\n",
              "      <td>Xbox(Xseries)</td>\n",
              "      <td>1</td>\n",
              "      <td>x box won't catch me till they change this con...</td>\n",
              "      <td>x box wont catch till chang contract</td>\n",
              "      <td>7</td>\n",
              "    </tr>\n",
              "    <tr>\n",
              "      <th>2</th>\n",
              "      <td>7873</td>\n",
              "      <td>MaddenNFL</td>\n",
              "      <td>1</td>\n",
              "      <td>@ EAMaddenNFL Ask how a 91ovr team that is sup...</td>\n",
              "      <td>eamaddennfl ask 91ovr team suppos compet 99ovr...</td>\n",
              "      <td>27</td>\n",
              "    </tr>\n",
              "    <tr>\n",
              "      <th>3</th>\n",
              "      <td>9915</td>\n",
              "      <td>PlayStation5(PS5)</td>\n",
              "      <td>2</td>\n",
              "      <td>Facts, bitch who can ’ t even get that ps5. Wa...</td>\n",
              "      <td>fact bitch even get ps5 wait lol</td>\n",
              "      <td>7</td>\n",
              "    </tr>\n",
              "    <tr>\n",
              "      <th>4</th>\n",
              "      <td>8264</td>\n",
              "      <td>Microsoft</td>\n",
              "      <td>3</td>\n",
              "      <td>@ Ronnie2K but that's fine I don't think @ mic...</td>\n",
              "      <td>ronnie2k that fine dont think microsoft xboxsu...</td>\n",
              "      <td>11</td>\n",
              "    </tr>\n",
              "    <tr>\n",
              "      <th>5</th>\n",
              "      <td>2276</td>\n",
              "      <td>CallOfDuty</td>\n",
              "      <td>0</td>\n",
              "      <td>. Florida family says a Philadelphia police of...</td>\n",
              "      <td>florida famili say philadelphia polic offic we...</td>\n",
              "      <td>18</td>\n",
              "    </tr>\n",
              "    <tr>\n",
              "      <th>6</th>\n",
              "      <td>6356</td>\n",
              "      <td>FIFA</td>\n",
              "      <td>0</td>\n",
              "      <td>Shame @ weemanronza should have got me in the ...</td>\n",
              "      <td>shame weemanronza got first round fifa tournam...</td>\n",
              "      <td>13</td>\n",
              "    </tr>\n",
              "    <tr>\n",
              "      <th>7</th>\n",
              "      <td>3225</td>\n",
              "      <td>Facebook</td>\n",
              "      <td>2</td>\n",
              "      <td>Discover our amazing children's products at da...</td>\n",
              "      <td>discov amaz children product darlyngandcocom p...</td>\n",
              "      <td>12</td>\n",
              "    </tr>\n",
              "    <tr>\n",
              "      <th>8</th>\n",
              "      <td>3104</td>\n",
              "      <td>Dota2</td>\n",
              "      <td>0</td>\n",
              "      <td>HAHAHA \" 100 % is TI a winrate \".. but That'i ...</td>\n",
              "      <td>hahaha 100 ti winrat thati great test stat rig...</td>\n",
              "      <td>10</td>\n",
              "    </tr>\n",
              "    <tr>\n",
              "      <th>9</th>\n",
              "      <td>3272</td>\n",
              "      <td>Facebook</td>\n",
              "      <td>3</td>\n",
              "      <td>Facebook showed me this picture from 3 years a...</td>\n",
              "      <td>facebook show pictur 3 year ago one red backpa...</td>\n",
              "      <td>25</td>\n",
              "    </tr>\n",
              "  </tbody>\n",
              "</table>\n",
              "</div>\n",
              "      <button class=\"colab-df-convert\" onclick=\"convertToInteractive('df-7b59127f-f458-4637-8815-eb58969ef92b')\"\n",
              "              title=\"Convert this dataframe to an interactive table.\"\n",
              "              style=\"display:none;\">\n",
              "\n",
              "  <svg xmlns=\"http://www.w3.org/2000/svg\" height=\"24px\"viewBox=\"0 0 24 24\"\n",
              "       width=\"24px\">\n",
              "    <path d=\"M0 0h24v24H0V0z\" fill=\"none\"/>\n",
              "    <path d=\"M18.56 5.44l.94 2.06.94-2.06 2.06-.94-2.06-.94-.94-2.06-.94 2.06-2.06.94zm-11 1L8.5 8.5l.94-2.06 2.06-.94-2.06-.94L8.5 2.5l-.94 2.06-2.06.94zm10 10l.94 2.06.94-2.06 2.06-.94-2.06-.94-.94-2.06-.94 2.06-2.06.94z\"/><path d=\"M17.41 7.96l-1.37-1.37c-.4-.4-.92-.59-1.43-.59-.52 0-1.04.2-1.43.59L10.3 9.45l-7.72 7.72c-.78.78-.78 2.05 0 2.83L4 21.41c.39.39.9.59 1.41.59.51 0 1.02-.2 1.41-.59l7.78-7.78 2.81-2.81c.8-.78.8-2.07 0-2.86zM5.41 20L4 18.59l7.72-7.72 1.47 1.35L5.41 20z\"/>\n",
              "  </svg>\n",
              "      </button>\n",
              "\n",
              "\n",
              "\n",
              "    <div id=\"df-984d7344-cbdd-4623-a11b-2a6a8166e669\">\n",
              "      <button class=\"colab-df-quickchart\" onclick=\"quickchart('df-984d7344-cbdd-4623-a11b-2a6a8166e669')\"\n",
              "              title=\"Suggest charts.\"\n",
              "              style=\"display:none;\">\n",
              "\n",
              "<svg xmlns=\"http://www.w3.org/2000/svg\" height=\"24px\"viewBox=\"0 0 24 24\"\n",
              "     width=\"24px\">\n",
              "    <g>\n",
              "        <path d=\"M19 3H5c-1.1 0-2 .9-2 2v14c0 1.1.9 2 2 2h14c1.1 0 2-.9 2-2V5c0-1.1-.9-2-2-2zM9 17H7v-7h2v7zm4 0h-2V7h2v10zm4 0h-2v-4h2v4z\"/>\n",
              "    </g>\n",
              "</svg>\n",
              "      </button>\n",
              "    </div>\n",
              "\n",
              "<style>\n",
              "  .colab-df-quickchart {\n",
              "    background-color: #E8F0FE;\n",
              "    border: none;\n",
              "    border-radius: 50%;\n",
              "    cursor: pointer;\n",
              "    display: none;\n",
              "    fill: #1967D2;\n",
              "    height: 32px;\n",
              "    padding: 0 0 0 0;\n",
              "    width: 32px;\n",
              "  }\n",
              "\n",
              "  .colab-df-quickchart:hover {\n",
              "    background-color: #E2EBFA;\n",
              "    box-shadow: 0px 1px 2px rgba(60, 64, 67, 0.3), 0px 1px 3px 1px rgba(60, 64, 67, 0.15);\n",
              "    fill: #174EA6;\n",
              "  }\n",
              "\n",
              "  [theme=dark] .colab-df-quickchart {\n",
              "    background-color: #3B4455;\n",
              "    fill: #D2E3FC;\n",
              "  }\n",
              "\n",
              "  [theme=dark] .colab-df-quickchart:hover {\n",
              "    background-color: #434B5C;\n",
              "    box-shadow: 0px 1px 3px 1px rgba(0, 0, 0, 0.15);\n",
              "    filter: drop-shadow(0px 1px 2px rgba(0, 0, 0, 0.3));\n",
              "    fill: #FFFFFF;\n",
              "  }\n",
              "</style>\n",
              "\n",
              "    <script>\n",
              "      async function quickchart(key) {\n",
              "        const containerElement = document.querySelector('#' + key);\n",
              "        const charts = await google.colab.kernel.invokeFunction(\n",
              "            'suggestCharts', [key], {});\n",
              "      }\n",
              "    </script>\n",
              "\n",
              "      <script>\n",
              "\n",
              "function displayQuickchartButton(domScope) {\n",
              "  let quickchartButtonEl =\n",
              "    domScope.querySelector('#df-984d7344-cbdd-4623-a11b-2a6a8166e669 button.colab-df-quickchart');\n",
              "  quickchartButtonEl.style.display =\n",
              "    google.colab.kernel.accessAllowed ? 'block' : 'none';\n",
              "}\n",
              "\n",
              "        displayQuickchartButton(document);\n",
              "      </script>\n",
              "      <style>\n",
              "    .colab-df-container {\n",
              "      display:flex;\n",
              "      flex-wrap:wrap;\n",
              "      gap: 12px;\n",
              "    }\n",
              "\n",
              "    .colab-df-convert {\n",
              "      background-color: #E8F0FE;\n",
              "      border: none;\n",
              "      border-radius: 50%;\n",
              "      cursor: pointer;\n",
              "      display: none;\n",
              "      fill: #1967D2;\n",
              "      height: 32px;\n",
              "      padding: 0 0 0 0;\n",
              "      width: 32px;\n",
              "    }\n",
              "\n",
              "    .colab-df-convert:hover {\n",
              "      background-color: #E2EBFA;\n",
              "      box-shadow: 0px 1px 2px rgba(60, 64, 67, 0.3), 0px 1px 3px 1px rgba(60, 64, 67, 0.15);\n",
              "      fill: #174EA6;\n",
              "    }\n",
              "\n",
              "    [theme=dark] .colab-df-convert {\n",
              "      background-color: #3B4455;\n",
              "      fill: #D2E3FC;\n",
              "    }\n",
              "\n",
              "    [theme=dark] .colab-df-convert:hover {\n",
              "      background-color: #434B5C;\n",
              "      box-shadow: 0px 1px 3px 1px rgba(0, 0, 0, 0.15);\n",
              "      filter: drop-shadow(0px 1px 2px rgba(0, 0, 0, 0.3));\n",
              "      fill: #FFFFFF;\n",
              "    }\n",
              "  </style>\n",
              "\n",
              "      <script>\n",
              "        const buttonEl =\n",
              "          document.querySelector('#df-7b59127f-f458-4637-8815-eb58969ef92b button.colab-df-convert');\n",
              "        buttonEl.style.display =\n",
              "          google.colab.kernel.accessAllowed ? 'block' : 'none';\n",
              "\n",
              "        async function convertToInteractive(key) {\n",
              "          const element = document.querySelector('#df-7b59127f-f458-4637-8815-eb58969ef92b');\n",
              "          const dataTable =\n",
              "            await google.colab.kernel.invokeFunction('convertToInteractive',\n",
              "                                                     [key], {});\n",
              "          if (!dataTable) return;\n",
              "\n",
              "          const docLinkHtml = 'Like what you see? Visit the ' +\n",
              "            '<a target=\"_blank\" href=https://colab.research.google.com/notebooks/data_table.ipynb>data table notebook</a>'\n",
              "            + ' to learn more about interactive tables.';\n",
              "          element.innerHTML = '';\n",
              "          dataTable['output_type'] = 'display_data';\n",
              "          await google.colab.output.renderOutput(dataTable, element);\n",
              "          const docLink = document.createElement('div');\n",
              "          docLink.innerHTML = docLinkHtml;\n",
              "          element.appendChild(docLink);\n",
              "        }\n",
              "      </script>\n",
              "    </div>\n",
              "  </div>\n"
            ]
          },
          "metadata": {},
          "execution_count": 55
        }
      ]
    },
    {
      "cell_type": "code",
      "source": [
        "cores = multiprocessing.cpu_count() # Count the number of cores in a computer\n",
        "cores"
      ],
      "metadata": {
        "id": "OlegwumG2ZVj",
        "colab": {
          "base_uri": "https://localhost:8080/"
        },
        "outputId": "8e009c0f-73a2-4322-d87e-3181c766c076"
      },
      "execution_count": 56,
      "outputs": [
        {
          "output_type": "execute_result",
          "data": {
            "text/plain": [
              "2"
            ]
          },
          "metadata": {},
          "execution_count": 56
        }
      ]
    },
    {
      "cell_type": "code",
      "source": [
        "\n",
        "\n",
        "#Seperate dependent and independent features\n",
        "X=train.loc[:,train.columns!='Sentiment']\n",
        "y=train['Sentiment']\n",
        "X_valid=validation.loc[:,train.columns!='Sentiment']\n",
        "y_valid=validation['Sentiment']\n",
        "from sklearn.model_selection import train_test_split\n",
        "# Break off validation set from training data\n",
        "X_train, X_test, y_train, y_test = train_test_split(X, y, train_size=0.7, test_size=0.3, random_state=0)\n",
        "# summarize\n",
        "print('Train', X_train.shape, y_train.shape)\n",
        "print('Test', X_test.shape, y_test.shape)\n",
        "print('Validation',X_valid.shape,y_valid.shape)\n"
      ],
      "metadata": {
        "id": "YpOVCpD3N3V4",
        "colab": {
          "base_uri": "https://localhost:8080/"
        },
        "outputId": "ffd1574d-65dc-441e-8b9e-27daa2410036"
      },
      "execution_count": 57,
      "outputs": [
        {
          "output_type": "stream",
          "name": "stdout",
          "text": [
            "Train (31159, 5) (31159,)\n",
            "Test (13354, 5) (13354,)\n",
            "Validation (848, 5) (848,)\n"
          ]
        }
      ]
    },
    {
      "cell_type": "code",
      "source": [
        "# TF IDF Experiment\n",
        "#TF-IDF\n",
        "from sklearn.feature_extraction.text import TfidfVectorizer #feature extraction\n",
        "vectorizer = TfidfVectorizer(stop_words='english',ngram_range=(1,3),min_df=10,max_features=10000)\n",
        "\n",
        "#Train on train data\n",
        "features_train= vectorizer.fit_transform(X_train['cleaned_tweet'])\n",
        "#Apply on test data\n",
        "features_test= vectorizer.transform(X_test['cleaned_tweet'])\n",
        "# Validation\n",
        "features_validation = vectorizer.transform(X_valid['cleaned_tweet'])\n",
        "# Out of Sample\n",
        "features_out_sample = vectorizer.transform(out_sample['cleaned_tweet'])"
      ],
      "metadata": {
        "id": "Ed6Ym92v3sxA"
      },
      "execution_count": 58,
      "outputs": []
    },
    {
      "cell_type": "code",
      "source": [
        "#Function to fit and apply a model"
      ],
      "metadata": {
        "id": "0IVu6canJqut"
      },
      "execution_count": 59,
      "outputs": []
    },
    {
      "cell_type": "markdown",
      "source": [
        "Training Random Forest Classifier with the default parameters without hyper parameter tuning"
      ],
      "metadata": {
        "id": "1BaqE2zLuKUQ"
      }
    },
    {
      "cell_type": "code",
      "source": [
        "#Random Forest\n",
        "rfc=RandomForestClassifier(random_state=101,n_jobs=-1)\n",
        "rf_fitted=rfc.fit(features_train,y_train)  #fitting the model using training data\n",
        "pred_test=rfc.predict(features_test)         #using the trained model for prediction on testing data\n",
        "pred_train = rfc.predict(features_train)      #using the trained model for prediction on training data\n",
        "pred_valid = rfc.predict(features_validation)   #using the trained model for prediction on validation data\n",
        "\n",
        "#Visualizing Precision-recall curve to assess the performance of the model\n",
        "viz = PrecisionRecallCurve(rf_fitted,\n",
        "                      classes=lb.classes_,\n",
        "                      per_class=True,\n",
        "                      cmap=\"Set1\")\n",
        "viz.fit(features_train,y_train)\n",
        "viz.score(features_test, y_test)\n",
        "viz.show();\n",
        "\n",
        "viz.show()\n",
        "\n",
        "#Plotting confusion matrix to identify\n",
        "conf_matrix = confusion_matrix(pred_test,y_test)\n",
        "\n",
        "plt.figure(figsize=(8, 6))\n",
        "sns.heatmap(conf_matrix, annot=True, fmt=\"d\", cmap=\"Blues\", xticklabels=lb.classes_, yticklabels=lb.classes_)\n",
        "plt.title(\"Confusion Matrix\")\n",
        "plt.xlabel(\"Predicted\")\n",
        "plt.ylabel(\"True\")\n",
        "plt.show()\n",
        "\n",
        "print()\n",
        "print('Training report')\n",
        "print(classification_report(y_train,pred_train))\n",
        "print('Testing report')\n",
        "print(classification_report(y_test,pred_test))\n",
        "print('Validation report')\n",
        "print(classification_report(y_valid,pred_valid))"
      ],
      "metadata": {
        "colab": {
          "base_uri": "https://localhost:8080/",
          "height": 1000
        },
        "id": "BS6FwGldNB23",
        "outputId": "59f40351-270b-4e5f-a8d7-d927e296e594"
      },
      "execution_count": null,
      "outputs": [
        {
          "output_type": "stream",
          "name": "stderr",
          "text": [
            "/usr/local/lib/python3.10/dist-packages/yellowbrick/classifier/prcurve.py:254: YellowbrickWarning: micro=True is ignored;specify per_class=False to draw a PR curve after micro-averaging\n",
            "  warnings.warn(\n"
          ]
        },
        {
          "output_type": "display_data",
          "data": {
            "text/plain": [
              "<Figure size 800x550 with 1 Axes>"
            ],
            "image/png": "[encoded data removed]"
          },
          "metadata": {}
        },
        {
          "output_type": "display_data",
          "data": {
            "text/plain": [
              "<Figure size 800x600 with 2 Axes>"
            ],
            "image/png": "[encoded data removed]"
          },
          "metadata": {}
        },
        {
          "output_type": "stream",
          "name": "stdout",
          "text": [
            "\n",
            "Training report\n",
            "              precision    recall  f1-score   support\n",
            "\n",
            "           0       1.00      1.00      1.00      5526\n",
            "           1       1.00      1.00      1.00      9480\n",
            "           2       1.00      1.00      1.00      8213\n",
            "           3       1.00      1.00      1.00      7940\n",
            "\n",
            "    accuracy                           1.00     31159\n",
            "   macro avg       1.00      1.00      1.00     31159\n",
            "weighted avg       1.00      1.00      1.00     31159\n",
            "\n",
            "Testing report\n",
            "              precision    recall  f1-score   support\n",
            "\n",
            "           0       0.92      0.79      0.85      2353\n",
            "           1       0.86      0.91      0.89      4116\n",
            "           2       0.86      0.86      0.86      3481\n",
            "           3       0.86      0.88      0.87      3404\n",
            "\n",
            "    accuracy                           0.87     13354\n",
            "   macro avg       0.88      0.86      0.87     13354\n",
            "weighted avg       0.87      0.87      0.87     13354\n",
            "\n",
            "Validation report\n",
            "              precision    recall  f1-score   support\n",
            "\n",
            "           0       0.95      0.91      0.93       149\n",
            "           1       0.92      0.96      0.94       215\n",
            "           2       0.95      0.93      0.94       268\n",
            "           3       0.93      0.94      0.93       216\n",
            "\n",
            "    accuracy                           0.94       848\n",
            "   macro avg       0.94      0.93      0.93       848\n",
            "weighted avg       0.94      0.94      0.94       848\n",
            "\n"
          ]
        }
      ]
    },
    {
      "cell_type": "markdown",
      "source": [
        "Trying for 10 different configurations of hyperparameters for the random forest classifier"
      ],
      "metadata": {
        "id": "Zp3Y1YashI9R"
      }
    },
    {
      "cell_type": "code",
      "source": [
        "configurations = [\n",
        "    {\"max_depth\": 10, \"max_features\": \"auto\", \"n_estimators\": 100},\n",
        "    {\"max_depth\": 20, \"max_features\": \"auto\", \"n_estimators\": 200},\n",
        "    {\"max_depth\": 30, \"max_features\": \"sqrt\", \"n_estimators\": 300},\n",
        "    {\"max_depth\": 50, \"max_features\": \"log2\", \"n_estimators\": 400},\n",
        "    {\"max_depth\": 5, \"max_features\": \"sqrt\", \"n_estimators\": 150},\n",
        "    {\"max_depth\": 15, \"max_features\": \"log2\", \"n_estimators\": 250},\n",
        "    {\"max_depth\": 25, \"max_features\": \"auto\", \"n_estimators\": 350},\n",
        "    {\"max_depth\": 40, \"max_features\": \"sqrt\", \"n_estimators\": 450},\n",
        "    {\"max_depth\": 8, \"max_features\": \"auto\", \"n_estimators\": 120},\n",
        "    {\"max_depth\": 18, \"max_features\": \"log2\", \"n_estimators\": 220}\n",
        "]\n",
        "\n",
        "# Loop through different configurations\n",
        "for i, config in enumerate(configurations):\n",
        "    print(f\"Configuration {i + 1}\")\n",
        "\n",
        "    # Create and train the model\n",
        "    rfc = RandomForestClassifier(\n",
        "        max_depth=config[\"max_depth\"],\n",
        "        max_features=config[\"max_features\"],\n",
        "        n_estimators=config[\"n_estimators\"],\n",
        "        random_state=101,\n",
        "        n_jobs=-1\n",
        "    )\n",
        "    rfc.fit(features_train, y_train)\n",
        "\n",
        "    # Predictions\n",
        "    pred_train = rfc.predict(features_train)\n",
        "    pred_test = rfc.predict(features_test)\n",
        "    pred_valid = rfc.predict(features_validation)\n",
        "\n",
        "    # Evaluate and print classification reports\n",
        "    print(\"Training report\")\n",
        "    print(classification_report(y_train, pred_train))\n",
        "    print(\"Testing report\")\n",
        "    print(classification_report(y_test, pred_test))\n",
        "    print(\"Validation report\")\n",
        "    print(classification_report(y_valid, pred_valid))\n",
        "    print(\"=\" * 80)"
      ],
      "metadata": {
        "colab": {
          "base_uri": "https://localhost:8080/"
        },
        "id": "PzHZdTkghIO2",
        "outputId": "4b9144eb-3ab7-43b6-8e13-00c76724dd02"
      },
      "execution_count": null,
      "outputs": [
        {
          "output_type": "stream",
          "name": "stdout",
          "text": [
            "Configuration 1\n"
          ]
        },
        {
          "output_type": "stream",
          "name": "stderr",
          "text": [
            "/usr/local/lib/python3.10/dist-packages/sklearn/ensemble/_forest.py:424: FutureWarning: `max_features='auto'` has been deprecated in 1.1 and will be removed in 1.3. To keep the past behaviour, explicitly set `max_features='sqrt'` or remove this parameter as it is also the default value for RandomForestClassifiers and ExtraTreesClassifiers.\n",
            "  warn(\n"
          ]
        },
        {
          "output_type": "stream",
          "name": "stdout",
          "text": [
            "Training report\n",
            "              precision    recall  f1-score   support\n",
            "\n",
            "           0       0.99      0.05      0.09      5526\n",
            "           1       0.37      0.96      0.54      9480\n",
            "           2       0.77      0.22      0.34      8213\n",
            "           3       0.67      0.34      0.45      7940\n",
            "\n",
            "    accuracy                           0.44     31159\n",
            "   macro avg       0.70      0.39      0.35     31159\n",
            "weighted avg       0.66      0.44      0.38     31159\n",
            "\n",
            "Testing report\n",
            "              precision    recall  f1-score   support\n",
            "\n",
            "           0       0.99      0.05      0.09      2353\n",
            "           1       0.37      0.95      0.53      4116\n",
            "           2       0.71      0.20      0.31      3481\n",
            "           3       0.61      0.32      0.42      3404\n",
            "\n",
            "    accuracy                           0.43     13354\n",
            "   macro avg       0.67      0.38      0.34     13354\n",
            "weighted avg       0.63      0.43      0.37     13354\n",
            "\n",
            "Validation report\n",
            "              precision    recall  f1-score   support\n",
            "\n",
            "           0       1.00      0.03      0.06       149\n",
            "           1       0.32      0.94      0.47       215\n",
            "           2       0.79      0.22      0.34       268\n",
            "           3       0.62      0.36      0.45       216\n",
            "\n",
            "    accuracy                           0.41       848\n",
            "   macro avg       0.68      0.39      0.33       848\n",
            "weighted avg       0.66      0.41      0.36       848\n",
            "\n",
            "================================================================================\n",
            "Configuration 2\n"
          ]
        },
        {
          "output_type": "stream",
          "name": "stderr",
          "text": [
            "/usr/local/lib/python3.10/dist-packages/sklearn/ensemble/_forest.py:424: FutureWarning: `max_features='auto'` has been deprecated in 1.1 and will be removed in 1.3. To keep the past behaviour, explicitly set `max_features='sqrt'` or remove this parameter as it is also the default value for RandomForestClassifiers and ExtraTreesClassifiers.\n",
            "  warn(\n"
          ]
        },
        {
          "output_type": "stream",
          "name": "stdout",
          "text": [
            "Training report\n",
            "              precision    recall  f1-score   support\n",
            "\n",
            "           0       0.99      0.07      0.14      5526\n",
            "           1       0.46      0.94      0.62      9480\n",
            "           2       0.79      0.43      0.56      8213\n",
            "           3       0.67      0.59      0.63      7940\n",
            "\n",
            "    accuracy                           0.56     31159\n",
            "   macro avg       0.73      0.51      0.49     31159\n",
            "weighted avg       0.70      0.56      0.52     31159\n",
            "\n",
            "Testing report\n",
            "              precision    recall  f1-score   support\n",
            "\n",
            "           0       0.99      0.06      0.11      2353\n",
            "           1       0.45      0.90      0.60      4116\n",
            "           2       0.70      0.35      0.47      3481\n",
            "           3       0.59      0.54      0.57      3404\n",
            "\n",
            "    accuracy                           0.52     13354\n",
            "   macro avg       0.68      0.46      0.44     13354\n",
            "weighted avg       0.65      0.52      0.47     13354\n",
            "\n",
            "Validation report\n",
            "              precision    recall  f1-score   support\n",
            "\n",
            "           0       1.00      0.07      0.14       149\n",
            "           1       0.39      0.92      0.55       215\n",
            "           2       0.78      0.39      0.52       268\n",
            "           3       0.64      0.58      0.61       216\n",
            "\n",
            "    accuracy                           0.52       848\n",
            "   macro avg       0.70      0.49      0.45       848\n",
            "weighted avg       0.68      0.52      0.48       848\n",
            "\n",
            "================================================================================\n",
            "Configuration 3\n",
            "Training report\n",
            "              precision    recall  f1-score   support\n",
            "\n",
            "           0       0.99      0.19      0.31      5526\n",
            "           1       0.54      0.96      0.69      9480\n",
            "           2       0.83      0.60      0.69      8213\n",
            "           3       0.75      0.70      0.72      7940\n",
            "\n",
            "    accuracy                           0.66     31159\n",
            "   macro avg       0.78      0.61      0.60     31159\n",
            "weighted avg       0.75      0.66      0.63     31159\n",
            "\n",
            "Testing report\n",
            "              precision    recall  f1-score   support\n",
            "\n",
            "           0       0.93      0.11      0.20      2353\n",
            "           1       0.50      0.90      0.65      4116\n",
            "           2       0.72      0.49      0.58      3481\n",
            "           3       0.64      0.63      0.63      3404\n",
            "\n",
            "    accuracy                           0.58     13354\n",
            "   macro avg       0.70      0.53      0.51     13354\n",
            "weighted avg       0.67      0.58      0.55     13354\n",
            "\n",
            "Validation report\n",
            "              precision    recall  f1-score   support\n",
            "\n",
            "           0       1.00      0.17      0.30       149\n",
            "           1       0.46      0.93      0.62       215\n",
            "           2       0.78      0.54      0.64       268\n",
            "           3       0.72      0.68      0.70       216\n",
            "\n",
            "    accuracy                           0.61       848\n",
            "   macro avg       0.74      0.58      0.56       848\n",
            "weighted avg       0.72      0.61      0.59       848\n",
            "\n",
            "================================================================================\n",
            "Configuration 4\n",
            "Training report\n",
            "              precision    recall  f1-score   support\n",
            "\n",
            "           0       1.00      0.19      0.32      5526\n",
            "           1       0.54      0.99      0.70      9480\n",
            "           2       0.95      0.71      0.81      8213\n",
            "           3       0.91      0.76      0.83      7940\n",
            "\n",
            "    accuracy                           0.72     31159\n",
            "   macro avg       0.85      0.66      0.66     31159\n",
            "weighted avg       0.82      0.72      0.70     31159\n",
            "\n",
            "Testing report\n",
            "              precision    recall  f1-score   support\n",
            "\n",
            "           0       1.00      0.10      0.18      2353\n",
            "           1       0.49      0.97      0.65      4116\n",
            "           2       0.85      0.54      0.66      3481\n",
            "           3       0.79      0.62      0.70      3404\n",
            "\n",
            "    accuracy                           0.62     13354\n",
            "   macro avg       0.78      0.56      0.55     13354\n",
            "weighted avg       0.75      0.62      0.58     13354\n",
            "\n",
            "Validation report\n",
            "              precision    recall  f1-score   support\n",
            "\n",
            "           0       1.00      0.22      0.36       149\n",
            "           1       0.47      0.97      0.63       215\n",
            "           2       0.94      0.64      0.76       268\n",
            "           3       0.86      0.74      0.80       216\n",
            "\n",
            "    accuracy                           0.68       848\n",
            "   macro avg       0.82      0.64      0.64       848\n",
            "weighted avg       0.81      0.68      0.67       848\n",
            "\n",
            "================================================================================\n",
            "Configuration 5\n",
            "Training report\n",
            "              precision    recall  f1-score   support\n",
            "\n",
            "           0       1.00      0.04      0.07      5526\n",
            "           1       0.33      0.97      0.49      9480\n",
            "           2       0.73      0.12      0.20      8213\n",
            "           3       0.67      0.12      0.20      7940\n",
            "\n",
            "    accuracy                           0.36     31159\n",
            "   macro avg       0.68      0.31      0.24     31159\n",
            "weighted avg       0.64      0.36      0.27     31159\n",
            "\n",
            "Testing report\n",
            "              precision    recall  f1-score   support\n",
            "\n",
            "           0       1.00      0.04      0.07      2353\n",
            "           1       0.33      0.97      0.49      4116\n",
            "           2       0.68      0.10      0.18      3481\n",
            "           3       0.64      0.11      0.19      3404\n",
            "\n",
            "    accuracy                           0.36     13354\n",
            "   macro avg       0.66      0.31      0.23     13354\n",
            "weighted avg       0.62      0.36      0.26     13354\n",
            "\n",
            "Validation report\n",
            "              precision    recall  f1-score   support\n",
            "\n",
            "           0       1.00      0.03      0.06       149\n",
            "           1       0.27      0.94      0.42       215\n",
            "           2       0.73      0.13      0.22       268\n",
            "           3       0.56      0.14      0.23       216\n",
            "\n",
            "    accuracy                           0.32       848\n",
            "   macro avg       0.64      0.31      0.23       848\n",
            "weighted avg       0.62      0.32      0.25       848\n",
            "\n",
            "================================================================================\n",
            "Configuration 6\n",
            "Training report\n",
            "              precision    recall  f1-score   support\n",
            "\n",
            "           0       1.00      0.03      0.07      5526\n",
            "           1       0.33      0.99      0.50      9480\n",
            "           2       0.92      0.15      0.25      8213\n",
            "           3       0.89      0.12      0.21      7940\n",
            "\n",
            "    accuracy                           0.38     31159\n",
            "   macro avg       0.78      0.32      0.25     31159\n",
            "weighted avg       0.75      0.38      0.28     31159\n",
            "\n",
            "Testing report\n",
            "              precision    recall  f1-score   support\n",
            "\n",
            "           0       1.00      0.04      0.07      2353\n",
            "           1       0.33      0.99      0.50      4116\n",
            "           2       0.85      0.13      0.22      3481\n",
            "           3       0.83      0.10      0.18      3404\n",
            "\n",
            "    accuracy                           0.37     13354\n",
            "   macro avg       0.75      0.31      0.24     13354\n",
            "weighted avg       0.71      0.37      0.27     13354\n",
            "\n",
            "Validation report\n",
            "              precision    recall  f1-score   support\n",
            "\n",
            "           0       1.00      0.03      0.06       149\n",
            "           1       0.27      0.98      0.43       215\n",
            "           2       0.91      0.11      0.19       268\n",
            "           3       0.75      0.14      0.23       216\n",
            "\n",
            "    accuracy                           0.32       848\n",
            "   macro avg       0.73      0.32      0.23       848\n",
            "weighted avg       0.72      0.32      0.24       848\n",
            "\n",
            "================================================================================\n",
            "Configuration 7\n"
          ]
        },
        {
          "output_type": "stream",
          "name": "stderr",
          "text": [
            "/usr/local/lib/python3.10/dist-packages/sklearn/ensemble/_forest.py:424: FutureWarning: `max_features='auto'` has been deprecated in 1.1 and will be removed in 1.3. To keep the past behaviour, explicitly set `max_features='sqrt'` or remove this parameter as it is also the default value for RandomForestClassifiers and ExtraTreesClassifiers.\n",
            "  warn(\n"
          ]
        },
        {
          "output_type": "stream",
          "name": "stdout",
          "text": [
            "Training report\n",
            "              precision    recall  f1-score   support\n",
            "\n",
            "           0       0.99      0.12      0.22      5526\n",
            "           1       0.50      0.95      0.66      9480\n",
            "           2       0.82      0.52      0.63      8213\n",
            "           3       0.71      0.65      0.68      7940\n",
            "\n",
            "    accuracy                           0.61     31159\n",
            "   macro avg       0.75      0.56      0.55     31159\n",
            "weighted avg       0.72      0.61      0.58     31159\n",
            "\n",
            "Testing report\n",
            "              precision    recall  f1-score   support\n",
            "\n",
            "           0       0.96      0.08      0.16      2353\n",
            "           1       0.47      0.90      0.62      4116\n",
            "           2       0.71      0.42      0.53      3481\n",
            "           3       0.61      0.59      0.60      3404\n",
            "\n",
            "    accuracy                           0.55     13354\n",
            "   macro avg       0.69      0.50      0.48     13354\n",
            "weighted avg       0.66      0.55      0.51     13354\n",
            "\n",
            "Validation report\n",
            "              precision    recall  f1-score   support\n",
            "\n",
            "           0       1.00      0.13      0.23       149\n",
            "           1       0.43      0.93      0.59       215\n",
            "           2       0.81      0.48      0.60       268\n",
            "           3       0.69      0.64      0.67       216\n",
            "\n",
            "    accuracy                           0.57       848\n",
            "   macro avg       0.73      0.55      0.52       848\n",
            "weighted avg       0.72      0.57      0.55       848\n",
            "\n",
            "================================================================================\n",
            "Configuration 8\n",
            "Training report\n",
            "              precision    recall  f1-score   support\n",
            "\n",
            "           0       0.99      0.36      0.52      5526\n",
            "           1       0.62      0.96      0.75      9480\n",
            "           2       0.87      0.73      0.79      8213\n",
            "           3       0.83      0.78      0.80      7940\n",
            "\n",
            "    accuracy                           0.75     31159\n",
            "   macro avg       0.83      0.71      0.72     31159\n",
            "weighted avg       0.80      0.75      0.73     31159\n",
            "\n",
            "Testing report\n",
            "              precision    recall  f1-score   support\n",
            "\n",
            "           0       0.96      0.20      0.33      2353\n",
            "           1       0.55      0.90      0.68      4116\n",
            "           2       0.75      0.58      0.65      3481\n",
            "           3       0.68      0.68      0.68      3404\n",
            "\n",
            "    accuracy                           0.64     13354\n",
            "   macro avg       0.73      0.59      0.59     13354\n",
            "weighted avg       0.71      0.64      0.61     13354\n",
            "\n",
            "Validation report\n",
            "              precision    recall  f1-score   support\n",
            "\n",
            "           0       1.00      0.37      0.54       149\n",
            "           1       0.54      0.93      0.69       215\n",
            "           2       0.82      0.66      0.74       268\n",
            "           3       0.79      0.75      0.77       216\n",
            "\n",
            "    accuracy                           0.70       848\n",
            "   macro avg       0.79      0.68      0.68       848\n",
            "weighted avg       0.78      0.70      0.70       848\n",
            "\n",
            "================================================================================\n",
            "Configuration 9\n"
          ]
        },
        {
          "output_type": "stream",
          "name": "stderr",
          "text": [
            "/usr/local/lib/python3.10/dist-packages/sklearn/ensemble/_forest.py:424: FutureWarning: `max_features='auto'` has been deprecated in 1.1 and will be removed in 1.3. To keep the past behaviour, explicitly set `max_features='sqrt'` or remove this parameter as it is also the default value for RandomForestClassifiers and ExtraTreesClassifiers.\n",
            "  warn(\n"
          ]
        },
        {
          "output_type": "stream",
          "name": "stdout",
          "text": [
            "Training report\n",
            "              precision    recall  f1-score   support\n",
            "\n",
            "           0       1.00      0.04      0.08      5526\n",
            "           1       0.35      0.97      0.51      9480\n",
            "           2       0.75      0.18      0.29      8213\n",
            "           3       0.69      0.24      0.35      7940\n",
            "\n",
            "    accuracy                           0.41     31159\n",
            "   macro avg       0.70      0.36      0.31     31159\n",
            "weighted avg       0.66      0.41      0.34     31159\n",
            "\n",
            "Testing report\n",
            "              precision    recall  f1-score   support\n",
            "\n",
            "           0       1.00      0.04      0.08      2353\n",
            "           1       0.35      0.96      0.51      4116\n",
            "           2       0.70      0.16      0.26      3481\n",
            "           3       0.63      0.23      0.33      3404\n",
            "\n",
            "    accuracy                           0.40     13354\n",
            "   macro avg       0.67      0.35      0.30     13354\n",
            "weighted avg       0.63      0.40      0.33     13354\n",
            "\n",
            "Validation report\n",
            "              precision    recall  f1-score   support\n",
            "\n",
            "           0       1.00      0.03      0.06       149\n",
            "           1       0.30      0.93      0.45       215\n",
            "           2       0.73      0.19      0.30       268\n",
            "           3       0.61      0.26      0.37       216\n",
            "\n",
            "    accuracy                           0.37       848\n",
            "   macro avg       0.66      0.36      0.30       848\n",
            "weighted avg       0.64      0.37      0.31       848\n",
            "\n",
            "================================================================================\n",
            "Configuration 10\n",
            "Training report\n",
            "              precision    recall  f1-score   support\n",
            "\n",
            "           0       1.00      0.04      0.07      5526\n",
            "           1       0.34      0.99      0.51      9480\n",
            "           2       0.92      0.20      0.33      8213\n",
            "           3       0.85      0.18      0.30      7940\n",
            "\n",
            "    accuracy                           0.41     31159\n",
            "   macro avg       0.78      0.35      0.30     31159\n",
            "weighted avg       0.74      0.41      0.33     31159\n",
            "\n",
            "Testing report\n",
            "              precision    recall  f1-score   support\n",
            "\n",
            "           0       1.00      0.04      0.07      2353\n",
            "           1       0.34      0.99      0.51      4116\n",
            "           2       0.83      0.16      0.27      3481\n",
            "           3       0.79      0.15      0.25      3404\n",
            "\n",
            "    accuracy                           0.39     13354\n",
            "   macro avg       0.74      0.33      0.27     13354\n",
            "weighted avg       0.70      0.39      0.30     13354\n",
            "\n",
            "Validation report\n",
            "              precision    recall  f1-score   support\n",
            "\n",
            "           0       1.00      0.03      0.06       149\n",
            "           1       0.29      0.97      0.44       215\n",
            "           2       0.89      0.21      0.34       268\n",
            "           3       0.78      0.21      0.33       216\n",
            "\n",
            "    accuracy                           0.37       848\n",
            "   macro avg       0.74      0.36      0.30       848\n",
            "weighted avg       0.73      0.37      0.32       848\n",
            "\n",
            "================================================================================\n"
          ]
        }
      ]
    },
    {
      "cell_type": "markdown",
      "source": [],
      "metadata": {
        "id": "DRWcZnF9thie"
      }
    },
    {
      "cell_type": "markdown",
      "source": [
        "# Grid search to find best parameters"
      ],
      "metadata": {
        "id": "xNPzlftDkRtj"
      }
    },
    {
      "cell_type": "markdown",
      "source": [
        "By controlling the parameters of the random forest classifier such as 'max-depth', 'max_features', 'n_estimators' help us limit overfitting. We have utilized GridSearchCV here to find the best optimal parameters"
      ],
      "metadata": {
        "id": "EC4ZErC_urbD"
      }
    },
    {
      "cell_type": "code",
      "source": [
        "# Setting Parameters for grid search\n",
        "param_grid = {\"max_depth\": [2,10,20,50, 80],\n",
        "            \"max_features\": [\"auto\", \"sqrt\", \"log2\"],\n",
        "            \"n_estimators\":[100,200,500,600,800]\n",
        "}"
      ],
      "metadata": {
        "id": "C_Xg7H55jv2p"
      },
      "execution_count": null,
      "outputs": []
    },
    {
      "cell_type": "code",
      "source": [
        "# Grid search for optimal parameters\n",
        "grid_search = GridSearchCV(rfc, param_grid, cv=5, n_jobs=-1,verbose=4)\n",
        "best_model = None\n",
        "\n",
        "grid_search.fit(features_train,y_train)"
      ],
      "metadata": {
        "id": "zFbGdOtiNJ-5",
        "colab": {
          "base_uri": "https://localhost:8080/",
          "height": 228
        },
        "outputId": "1a1685b9-047d-4d2b-f398-490c92777a2b"
      },
      "execution_count": null,
      "outputs": [
        {
          "metadata": {
            "tags": null
          },
          "name": "stdout",
          "output_type": "stream",
          "text": [
            "Fitting 5 folds for each of 75 candidates, totalling 375 fits\n"
          ]
        },
        {
          "output_type": "stream",
          "name": "stderr",
          "text": [
            "/usr/local/lib/python3.10/dist-packages/joblib/externals/loky/process_executor.py:752: UserWarning: A worker stopped while some jobs were given to the executor. This can be caused by a too short worker timeout or by a memory leak.\n",
            "  warnings.warn(\n",
            "/usr/local/lib/python3.10/dist-packages/sklearn/ensemble/_forest.py:424: FutureWarning: `max_features='auto'` has been deprecated in 1.1 and will be removed in 1.3. To keep the past behaviour, explicitly set `max_features='sqrt'` or remove this parameter as it is also the default value for RandomForestClassifiers and ExtraTreesClassifiers.\n",
            "  warn(\n"
          ]
        },
        {
          "output_type": "execute_result",
          "data": {
            "text/plain": [
              "GridSearchCV(cv=5,\n",
              "             estimator=RandomForestClassifier(max_depth=18, max_features='log2',\n",
              "                                              n_estimators=220, n_jobs=-1,\n",
              "                                              random_state=101),\n",
              "             n_jobs=-1,\n",
              "             param_grid={'max_depth': [2, 10, 20, 50, 80],\n",
              "                         'max_features': ['auto', 'sqrt', 'log2'],\n",
              "                         'n_estimators': [100, 200, 500, 600, 800]},\n",
              "             verbose=4)"
            ],
            "text/html": [
              "<style>#sk-container-id-1 {color: black;background-color: white;}#sk-container-id-1 pre{padding: 0;}#sk-container-id-1 div.sk-toggleable {background-color: white;}#sk-container-id-1 label.sk-toggleable__label {cursor: pointer;display: block;width: 100%;margin-bottom: 0;padding: 0.3em;box-sizing: border-box;text-align: center;}#sk-container-id-1 label.sk-toggleable__label-arrow:before {content: \"▸\";float: left;margin-right: 0.25em;color: #696969;}#sk-container-id-1 label.sk-toggleable__label-arrow:hover:before {color: black;}#sk-container-id-1 div.sk-estimator:hover label.sk-toggleable__label-arrow:before {color: black;}#sk-container-id-1 div.sk-toggleable__content {max-height: 0;max-width: 0;overflow: hidden;text-align: left;background-color: #f0f8ff;}#sk-container-id-1 div.sk-toggleable__content pre {margin: 0.2em;color: black;border-radius: 0.25em;background-color: #f0f8ff;}#sk-container-id-1 input.sk-toggleable__control:checked~div.sk-toggleable__content {max-height: 200px;max-width: 100%;overflow: auto;}#sk-container-id-1 input.sk-toggleable__control:checked~label.sk-toggleable__label-arrow:before {content: \"▾\";}#sk-container-id-1 div.sk-estimator input.sk-toggleable__control:checked~label.sk-toggleable__label {background-color: #d4ebff;}#sk-container-id-1 div.sk-label input.sk-toggleable__control:checked~label.sk-toggleable__label {background-color: #d4ebff;}#sk-container-id-1 input.sk-hidden--visually {border: 0;clip: rect(1px 1px 1px 1px);clip: rect(1px, 1px, 1px, 1px);height: 1px;margin: -1px;overflow: hidden;padding: 0;position: absolute;width: 1px;}#sk-container-id-1 div.sk-estimator {font-family: monospace;background-color: #f0f8ff;border: 1px dotted black;border-radius: 0.25em;box-sizing: border-box;margin-bottom: 0.5em;}#sk-container-id-1 div.sk-estimator:hover {background-color: #d4ebff;}#sk-container-id-1 div.sk-parallel-item::after {content: \"\";width: 100%;border-bottom: 1px solid gray;flex-grow: 1;}#sk-container-id-1 div.sk-label:hover label.sk-toggleable__label {background-color: #d4ebff;}#sk-container-id-1 div.sk-serial::before {content: \"\";position: absolute;border-left: 1px solid gray;box-sizing: border-box;top: 0;bottom: 0;left: 50%;z-index: 0;}#sk-container-id-1 div.sk-serial {display: flex;flex-direction: column;align-items: center;background-color: white;padding-right: 0.2em;padding-left: 0.2em;position: relative;}#sk-container-id-1 div.sk-item {position: relative;z-index: 1;}#sk-container-id-1 div.sk-parallel {display: flex;align-items: stretch;justify-content: center;background-color: white;position: relative;}#sk-container-id-1 div.sk-item::before, #sk-container-id-1 div.sk-parallel-item::before {content: \"\";position: absolute;border-left: 1px solid gray;box-sizing: border-box;top: 0;bottom: 0;left: 50%;z-index: -1;}#sk-container-id-1 div.sk-parallel-item {display: flex;flex-direction: column;z-index: 1;position: relative;background-color: white;}#sk-container-id-1 div.sk-parallel-item:first-child::after {align-self: flex-end;width: 50%;}#sk-container-id-1 div.sk-parallel-item:last-child::after {align-self: flex-start;width: 50%;}#sk-container-id-1 div.sk-parallel-item:only-child::after {width: 0;}#sk-container-id-1 div.sk-dashed-wrapped {border: 1px dashed gray;margin: 0 0.4em 0.5em 0.4em;box-sizing: border-box;padding-bottom: 0.4em;background-color: white;}#sk-container-id-1 div.sk-label label {font-family: monospace;font-weight: bold;display: inline-block;line-height: 1.2em;}#sk-container-id-1 div.sk-label-container {text-align: center;}#sk-container-id-1 div.sk-container {/* jupyter's `normalize.less` sets `[hidden] { display: none; }` but bootstrap.min.css set `[hidden] { display: none !important; }` so we also need the `!important` here to be able to override the default hidden behavior on the sphinx rendered scikit-learn.org. See: https://github.com/scikit-learn/scikit-learn/issues/21755 */display: inline-block !important;position: relative;}#sk-container-id-1 div.sk-text-repr-fallback {display: none;}</style><div id=\"sk-container-id-1\" class=\"sk-top-container\"><div class=\"sk-text-repr-fallback\"><pre>GridSearchCV(cv=5,\n",
              "             estimator=RandomForestClassifier(max_depth=18, max_features=&#x27;log2&#x27;,\n",
              "                                              n_estimators=220, n_jobs=-1,\n",
              "                                              random_state=101),\n",
              "             n_jobs=-1,\n",
              "             param_grid={&#x27;max_depth&#x27;: [2, 10, 20, 50, 80],\n",
              "                         &#x27;max_features&#x27;: [&#x27;auto&#x27;, &#x27;sqrt&#x27;, &#x27;log2&#x27;],\n",
              "                         &#x27;n_estimators&#x27;: [100, 200, 500, 600, 800]},\n",
              "             verbose=4)</pre><b>In a Jupyter environment, please rerun this cell to show the HTML representation or trust the notebook. <br />On GitHub, the HTML representation is unable to render, please try loading this page with nbviewer.org.</b></div><div class=\"sk-container\" hidden><div class=\"sk-item sk-dashed-wrapped\"><div class=\"sk-label-container\"><div class=\"sk-label sk-toggleable\"><input class=\"sk-toggleable__control sk-hidden--visually\" id=\"sk-estimator-id-1\" type=\"checkbox\" ><label for=\"sk-estimator-id-1\" class=\"sk-toggleable__label sk-toggleable__label-arrow\">GridSearchCV</label><div class=\"sk-toggleable__content\"><pre>GridSearchCV(cv=5,\n",
              "             estimator=RandomForestClassifier(max_depth=18, max_features=&#x27;log2&#x27;,\n",
              "                                              n_estimators=220, n_jobs=-1,\n",
              "                                              random_state=101),\n",
              "             n_jobs=-1,\n",
              "             param_grid={&#x27;max_depth&#x27;: [2, 10, 20, 50, 80],\n",
              "                         &#x27;max_features&#x27;: [&#x27;auto&#x27;, &#x27;sqrt&#x27;, &#x27;log2&#x27;],\n",
              "                         &#x27;n_estimators&#x27;: [100, 200, 500, 600, 800]},\n",
              "             verbose=4)</pre></div></div></div><div class=\"sk-parallel\"><div class=\"sk-parallel-item\"><div class=\"sk-item\"><div class=\"sk-label-container\"><div class=\"sk-label sk-toggleable\"><input class=\"sk-toggleable__control sk-hidden--visually\" id=\"sk-estimator-id-2\" type=\"checkbox\" ><label for=\"sk-estimator-id-2\" class=\"sk-toggleable__label sk-toggleable__label-arrow\">estimator: RandomForestClassifier</label><div class=\"sk-toggleable__content\"><pre>RandomForestClassifier(max_depth=18, max_features=&#x27;log2&#x27;, n_estimators=220,\n",
              "                       n_jobs=-1, random_state=101)</pre></div></div></div><div class=\"sk-serial\"><div class=\"sk-item\"><div class=\"sk-estimator sk-toggleable\"><input class=\"sk-toggleable__control sk-hidden--visually\" id=\"sk-estimator-id-3\" type=\"checkbox\" ><label for=\"sk-estimator-id-3\" class=\"sk-toggleable__label sk-toggleable__label-arrow\">RandomForestClassifier</label><div class=\"sk-toggleable__content\"><pre>RandomForestClassifier(max_depth=18, max_features=&#x27;log2&#x27;, n_estimators=220,\n",
              "                       n_jobs=-1, random_state=101)</pre></div></div></div></div></div></div></div></div></div></div>"
            ]
          },
          "metadata": {},
          "execution_count": 53
        }
      ]
    },
    {
      "cell_type": "code",
      "source": [
        "grid_search.best_params_  # the best parameters are obtained from the GridSearch"
      ],
      "metadata": {
        "colab": {
          "base_uri": "https://localhost:8080/"
        },
        "id": "ldeIglzEkEZ2",
        "outputId": "4c420858-edbd-425e-d10e-b77401e17b1b"
      },
      "execution_count": null,
      "outputs": [
        {
          "output_type": "execute_result",
          "data": {
            "text/plain": [
              "{'max_depth': 80, 'max_features': 'auto', 'n_estimators': 800}"
            ]
          },
          "metadata": {},
          "execution_count": 54
        }
      ]
    },
    {
      "cell_type": "markdown",
      "source": [
        "# Performing the RandomForestClassifier with the best parameters achieved"
      ],
      "metadata": {
        "id": "tTZSpZhTzx3g"
      }
    },
    {
      "cell_type": "code",
      "source": [
        "#{'max_depth': 80, 'max_features': 'auto', 'n_estimators': 800} -> best parameters\n",
        "rfc = RandomForestClassifier(max_depth = 80,\n",
        "                                 max_features = 'auto',\n",
        "                                 n_estimators = 800,\n",
        "                             n_jobs=-1)\n",
        "# rfc=RandomForestClassifier(random_state=101,n_jobs=-1)\n",
        "rf_fitted=rfc.fit(features_train,y_train)\n",
        "pred_test=rfc.predict(features_test)\n",
        "pred_train = rfc.predict(features_train)\n",
        "pred_valid = rfc.predict(features_validation)\n",
        "\n",
        "#train the model, Fitting twice unable to figure out how to reuse the fitted model\n",
        "viz = PrecisionRecallCurve(rf_fitted,\n",
        "                      classes=lb.classes_,\n",
        "                      per_class=True,\n",
        "                      cmap=\"Set1\")\n",
        "viz.fit(features_train,y_train)\n",
        "viz.score(features_test, y_test)\n",
        "viz.show();\n",
        "\n",
        "viz.show()\n",
        "\n",
        "conf_matrix = confusion_matrix(pred_test,y_test)\n",
        "\n",
        "plt.figure(figsize=(8, 6))\n",
        "sns.heatmap(conf_matrix, annot=True, fmt=\"d\", cmap=\"Blues\", xticklabels=lb.classes_, yticklabels=lb.classes_)\n",
        "plt.title(\"Confusion Matrix for best model from grid search\")\n",
        "plt.xlabel(\"Predicted\")\n",
        "plt.ylabel(\"True\")\n",
        "plt.show()\n",
        "\n",
        "print()\n",
        "print('Training report')\n",
        "print(classification_report(y_train,pred_train))\n",
        "print('Testing report')\n",
        "print(classification_report(y_test,pred_test))\n",
        "print('Validation report')\n",
        "print(classification_report(y_valid,pred_valid))"
      ],
      "metadata": {
        "colab": {
          "base_uri": "https://localhost:8080/",
          "height": 1000
        },
        "id": "ADr77NrxkDIQ",
        "outputId": "6a84aedd-2bf6-4b8e-8c18-74757194e50d"
      },
      "execution_count": null,
      "outputs": [
        {
          "output_type": "stream",
          "name": "stderr",
          "text": [
            "/usr/local/lib/python3.10/dist-packages/sklearn/ensemble/_forest.py:424: FutureWarning: `max_features='auto'` has been deprecated in 1.1 and will be removed in 1.3. To keep the past behaviour, explicitly set `max_features='sqrt'` or remove this parameter as it is also the default value for RandomForestClassifiers and ExtraTreesClassifiers.\n",
            "  warn(\n",
            "/usr/local/lib/python3.10/dist-packages/yellowbrick/classifier/prcurve.py:254: YellowbrickWarning: micro=True is ignored;specify per_class=False to draw a PR curve after micro-averaging\n",
            "  warnings.warn(\n",
            "/usr/local/lib/python3.10/dist-packages/sklearn/ensemble/_forest.py:424: FutureWarning: `max_features='auto'` has been deprecated in 1.1 and will be removed in 1.3. To keep the past behaviour, explicitly set `max_features='sqrt'` or remove this parameter as it is also the default value for RandomForestClassifiers and ExtraTreesClassifiers.\n",
            "  warn(\n",
            "/usr/local/lib/python3.10/dist-packages/sklearn/ensemble/_forest.py:424: FutureWarning: `max_features='auto'` has been deprecated in 1.1 and will be removed in 1.3. To keep the past behaviour, explicitly set `max_features='sqrt'` or remove this parameter as it is also the default value for RandomForestClassifiers and ExtraTreesClassifiers.\n",
            "  warn(\n",
            "/usr/local/lib/python3.10/dist-packages/sklearn/ensemble/_forest.py:424: FutureWarning: `max_features='auto'` has been deprecated in 1.1 and will be removed in 1.3. To keep the past behaviour, explicitly set `max_features='sqrt'` or remove this parameter as it is also the default value for RandomForestClassifiers and ExtraTreesClassifiers.\n",
            "  warn(\n",
            "/usr/local/lib/python3.10/dist-packages/sklearn/ensemble/_forest.py:424: FutureWarning: `max_features='auto'` has been deprecated in 1.1 and will be removed in 1.3. To keep the past behaviour, explicitly set `max_features='sqrt'` or remove this parameter as it is also the default value for RandomForestClassifiers and ExtraTreesClassifiers.\n",
            "  warn(\n"
          ]
        },
        {
          "output_type": "display_data",
          "data": {
            "text/plain": [
              "<Figure size 800x550 with 1 Axes>"
            ],
            "image/png": "[encoded data removed]"
          },
          "metadata": {}
        },
        {
          "output_type": "display_data",
          "data": {
            "text/plain": [
              "<Figure size 800x600 with 2 Axes>"
            ],
            "image/png": "[encoded data removed]"
          },
          "metadata": {}
        },
        {
          "output_type": "stream",
          "name": "stdout",
          "text": [
            "\n",
            "Training report\n",
            "              precision    recall  f1-score   support\n",
            "\n",
            "           0       1.00      0.82      0.90      5526\n",
            "           1       0.87      0.99      0.92      9480\n",
            "           2       0.96      0.95      0.96      8213\n",
            "           3       0.97      0.93      0.95      7940\n",
            "\n",
            "    accuracy                           0.93     31159\n",
            "   macro avg       0.95      0.92      0.93     31159\n",
            "weighted avg       0.94      0.93      0.93     31159\n",
            "\n",
            "Testing report\n",
            "              precision    recall  f1-score   support\n",
            "\n",
            "           0       0.95      0.56      0.70      2353\n",
            "           1       0.72      0.92      0.81      4116\n",
            "           2       0.82      0.79      0.80      3481\n",
            "           3       0.80      0.80      0.80      3404\n",
            "\n",
            "    accuracy                           0.79     13354\n",
            "   macro avg       0.82      0.77      0.78     13354\n",
            "weighted avg       0.81      0.79      0.79     13354\n",
            "\n",
            "Validation report\n",
            "              precision    recall  f1-score   support\n",
            "\n",
            "           0       0.95      0.76      0.84       149\n",
            "           1       0.78      0.95      0.85       215\n",
            "           2       0.92      0.88      0.90       268\n",
            "           3       0.90      0.87      0.88       216\n",
            "\n",
            "    accuracy                           0.87       848\n",
            "   macro avg       0.89      0.86      0.87       848\n",
            "weighted avg       0.88      0.87      0.87       848\n",
            "\n"
          ]
        }
      ]
    },
    {
      "cell_type": "markdown",
      "source": [
        "We have visualized the precision-recall curve and confusion matrix to evaluate overfitting and underfitting. It is observed that with"
      ],
      "metadata": {
        "id": "hfrqoHQpv0v1"
      }
    },
    {
      "cell_type": "markdown",
      "source": [
        "#Out of Sample Validation"
      ],
      "metadata": {
        "id": "5C-r_vnNNrP4"
      }
    },
    {
      "cell_type": "code",
      "source": [
        "out_sample.head(10)"
      ],
      "metadata": {
        "id": "ha3ncwa538LI",
        "colab": {
          "base_uri": "https://localhost:8080/",
          "height": 363
        },
        "outputId": "5faa3b44-9e58-48d2-df0e-99411bc72d69"
      },
      "execution_count": 60,
      "outputs": [
        {
          "output_type": "execute_result",
          "data": {
            "text/plain": [
              "                                            Sentence  Sentiment  \\\n",
              "0                                           Sentence          4   \n",
              "1  The GeoSolutions technology will leverage Bene...          3   \n",
              "2  $ESI on lows, down $1.50 to $2.50 BK a real po...          1   \n",
              "3  For the last quarter of 2010 , Componenta 's n...          3   \n",
              "4  According to the Finnish-Russian Chamber of Co...          0   \n",
              "5  The Swedish buyout firm has sold its remaining...          2   \n",
              "6    $SPY wouldn't be surprised to see a green close          3   \n",
              "7  Shell's $70 Billion BG Deal Meets Shareholder ...          1   \n",
              "8  SSH COMMUNICATIONS SECURITY CORP STOCK EXCHANG...          1   \n",
              "9  Kone 's net sales rose by some 14 % year-on-ye...          3   \n",
              "\n",
              "                                       cleaned_tweet  \n",
              "0                                            sentenc  \n",
              "1  geosolut technolog leverag benefon gp solut pr...  \n",
              "2                    esi low 150 250 bk real possibl  \n",
              "3  last quarter 2010 componenta net sale doubl eu...  \n",
              "4  accord finnishrussian chamber commerc major co...  \n",
              "5  swedish buyout firm sold remain 224 percent st...  \n",
              "6                spi wouldnt surpris see green close  \n",
              "7    shell 70 billion bg deal meet sharehold skeptic  \n",
              "8  ssh commun secur corp stock exchang releas oct...  \n",
              "9  kone net sale rose 14 yearonyear first nine mo...  "
            ],
            "text/html": [
              "\n",
              "\n",
              "  <div id=\"df-bd5edf38-680b-4a16-8383-a389902771d5\">\n",
              "    <div class=\"colab-df-container\">\n",
              "      <div>\n",
              "<style scoped>\n",
              "    .dataframe tbody tr th:only-of-type {\n",
              "        vertical-align: middle;\n",
              "    }\n",
              "\n",
              "    .dataframe tbody tr th {\n",
              "        vertical-align: top;\n",
              "    }\n",
              "\n",
              "    .dataframe thead th {\n",
              "        text-align: right;\n",
              "    }\n",
              "</style>\n",
              "<table border=\"1\" class=\"dataframe\">\n",
              "  <thead>\n",
              "    <tr style=\"text-align: right;\">\n",
              "      <th></th>\n",
              "      <th>Sentence</th>\n",
              "      <th>Sentiment</th>\n",
              "      <th>cleaned_tweet</th>\n",
              "    </tr>\n",
              "  </thead>\n",
              "  <tbody>\n",
              "    <tr>\n",
              "      <th>0</th>\n",
              "      <td>Sentence</td>\n",
              "      <td>4</td>\n",
              "      <td>sentenc</td>\n",
              "    </tr>\n",
              "    <tr>\n",
              "      <th>1</th>\n",
              "      <td>The GeoSolutions technology will leverage Bene...</td>\n",
              "      <td>3</td>\n",
              "      <td>geosolut technolog leverag benefon gp solut pr...</td>\n",
              "    </tr>\n",
              "    <tr>\n",
              "      <th>2</th>\n",
              "      <td>$ESI on lows, down $1.50 to $2.50 BK a real po...</td>\n",
              "      <td>1</td>\n",
              "      <td>esi low 150 250 bk real possibl</td>\n",
              "    </tr>\n",
              "    <tr>\n",
              "      <th>3</th>\n",
              "      <td>For the last quarter of 2010 , Componenta 's n...</td>\n",
              "      <td>3</td>\n",
              "      <td>last quarter 2010 componenta net sale doubl eu...</td>\n",
              "    </tr>\n",
              "    <tr>\n",
              "      <th>4</th>\n",
              "      <td>According to the Finnish-Russian Chamber of Co...</td>\n",
              "      <td>0</td>\n",
              "      <td>accord finnishrussian chamber commerc major co...</td>\n",
              "    </tr>\n",
              "    <tr>\n",
              "      <th>5</th>\n",
              "      <td>The Swedish buyout firm has sold its remaining...</td>\n",
              "      <td>2</td>\n",
              "      <td>swedish buyout firm sold remain 224 percent st...</td>\n",
              "    </tr>\n",
              "    <tr>\n",
              "      <th>6</th>\n",
              "      <td>$SPY wouldn't be surprised to see a green close</td>\n",
              "      <td>3</td>\n",
              "      <td>spi wouldnt surpris see green close</td>\n",
              "    </tr>\n",
              "    <tr>\n",
              "      <th>7</th>\n",
              "      <td>Shell's $70 Billion BG Deal Meets Shareholder ...</td>\n",
              "      <td>1</td>\n",
              "      <td>shell 70 billion bg deal meet sharehold skeptic</td>\n",
              "    </tr>\n",
              "    <tr>\n",
              "      <th>8</th>\n",
              "      <td>SSH COMMUNICATIONS SECURITY CORP STOCK EXCHANG...</td>\n",
              "      <td>1</td>\n",
              "      <td>ssh commun secur corp stock exchang releas oct...</td>\n",
              "    </tr>\n",
              "    <tr>\n",
              "      <th>9</th>\n",
              "      <td>Kone 's net sales rose by some 14 % year-on-ye...</td>\n",
              "      <td>3</td>\n",
              "      <td>kone net sale rose 14 yearonyear first nine mo...</td>\n",
              "    </tr>\n",
              "  </tbody>\n",
              "</table>\n",
              "</div>\n",
              "      <button class=\"colab-df-convert\" onclick=\"convertToInteractive('df-bd5edf38-680b-4a16-8383-a389902771d5')\"\n",
              "              title=\"Convert this dataframe to an interactive table.\"\n",
              "              style=\"display:none;\">\n",
              "\n",
              "  <svg xmlns=\"http://www.w3.org/2000/svg\" height=\"24px\"viewBox=\"0 0 24 24\"\n",
              "       width=\"24px\">\n",
              "    <path d=\"M0 0h24v24H0V0z\" fill=\"none\"/>\n",
              "    <path d=\"M18.56 5.44l.94 2.06.94-2.06 2.06-.94-2.06-.94-.94-2.06-.94 2.06-2.06.94zm-11 1L8.5 8.5l.94-2.06 2.06-.94-2.06-.94L8.5 2.5l-.94 2.06-2.06.94zm10 10l.94 2.06.94-2.06 2.06-.94-2.06-.94-.94-2.06-.94 2.06-2.06.94z\"/><path d=\"M17.41 7.96l-1.37-1.37c-.4-.4-.92-.59-1.43-.59-.52 0-1.04.2-1.43.59L10.3 9.45l-7.72 7.72c-.78.78-.78 2.05 0 2.83L4 21.41c.39.39.9.59 1.41.59.51 0 1.02-.2 1.41-.59l7.78-7.78 2.81-2.81c.8-.78.8-2.07 0-2.86zM5.41 20L4 18.59l7.72-7.72 1.47 1.35L5.41 20z\"/>\n",
              "  </svg>\n",
              "      </button>\n",
              "\n",
              "\n",
              "\n",
              "    <div id=\"df-9407fd75-238a-40cd-922b-5cf4262aecf8\">\n",
              "      <button class=\"colab-df-quickchart\" onclick=\"quickchart('df-9407fd75-238a-40cd-922b-5cf4262aecf8')\"\n",
              "              title=\"Suggest charts.\"\n",
              "              style=\"display:none;\">\n",
              "\n",
              "<svg xmlns=\"http://www.w3.org/2000/svg\" height=\"24px\"viewBox=\"0 0 24 24\"\n",
              "     width=\"24px\">\n",
              "    <g>\n",
              "        <path d=\"M19 3H5c-1.1 0-2 .9-2 2v14c0 1.1.9 2 2 2h14c1.1 0 2-.9 2-2V5c0-1.1-.9-2-2-2zM9 17H7v-7h2v7zm4 0h-2V7h2v10zm4 0h-2v-4h2v4z\"/>\n",
              "    </g>\n",
              "</svg>\n",
              "      </button>\n",
              "    </div>\n",
              "\n",
              "<style>\n",
              "  .colab-df-quickchart {\n",
              "    background-color: #E8F0FE;\n",
              "    border: none;\n",
              "    border-radius: 50%;\n",
              "    cursor: pointer;\n",
              "    display: none;\n",
              "    fill: #1967D2;\n",
              "    height: 32px;\n",
              "    padding: 0 0 0 0;\n",
              "    width: 32px;\n",
              "  }\n",
              "\n",
              "  .colab-df-quickchart:hover {\n",
              "    background-color: #E2EBFA;\n",
              "    box-shadow: 0px 1px 2px rgba(60, 64, 67, 0.3), 0px 1px 3px 1px rgba(60, 64, 67, 0.15);\n",
              "    fill: #174EA6;\n",
              "  }\n",
              "\n",
              "  [theme=dark] .colab-df-quickchart {\n",
              "    background-color: #3B4455;\n",
              "    fill: #D2E3FC;\n",
              "  }\n",
              "\n",
              "  [theme=dark] .colab-df-quickchart:hover {\n",
              "    background-color: #434B5C;\n",
              "    box-shadow: 0px 1px 3px 1px rgba(0, 0, 0, 0.15);\n",
              "    filter: drop-shadow(0px 1px 2px rgba(0, 0, 0, 0.3));\n",
              "    fill: #FFFFFF;\n",
              "  }\n",
              "</style>\n",
              "\n",
              "    <script>\n",
              "      async function quickchart(key) {\n",
              "        const containerElement = document.querySelector('#' + key);\n",
              "        const charts = await google.colab.kernel.invokeFunction(\n",
              "            'suggestCharts', [key], {});\n",
              "      }\n",
              "    </script>\n",
              "\n",
              "      <script>\n",
              "\n",
              "function displayQuickchartButton(domScope) {\n",
              "  let quickchartButtonEl =\n",
              "    domScope.querySelector('#df-9407fd75-238a-40cd-922b-5cf4262aecf8 button.colab-df-quickchart');\n",
              "  quickchartButtonEl.style.display =\n",
              "    google.colab.kernel.accessAllowed ? 'block' : 'none';\n",
              "}\n",
              "\n",
              "        displayQuickchartButton(document);\n",
              "      </script>\n",
              "      <style>\n",
              "    .colab-df-container {\n",
              "      display:flex;\n",
              "      flex-wrap:wrap;\n",
              "      gap: 12px;\n",
              "    }\n",
              "\n",
              "    .colab-df-convert {\n",
              "      background-color: #E8F0FE;\n",
              "      border: none;\n",
              "      border-radius: 50%;\n",
              "      cursor: pointer;\n",
              "      display: none;\n",
              "      fill: #1967D2;\n",
              "      height: 32px;\n",
              "      padding: 0 0 0 0;\n",
              "      width: 32px;\n",
              "    }\n",
              "\n",
              "    .colab-df-convert:hover {\n",
              "      background-color: #E2EBFA;\n",
              "      box-shadow: 0px 1px 2px rgba(60, 64, 67, 0.3), 0px 1px 3px 1px rgba(60, 64, 67, 0.15);\n",
              "      fill: #174EA6;\n",
              "    }\n",
              "\n",
              "    [theme=dark] .colab-df-convert {\n",
              "      background-color: #3B4455;\n",
              "      fill: #D2E3FC;\n",
              "    }\n",
              "\n",
              "    [theme=dark] .colab-df-convert:hover {\n",
              "      background-color: #434B5C;\n",
              "      box-shadow: 0px 1px 3px 1px rgba(0, 0, 0, 0.15);\n",
              "      filter: drop-shadow(0px 1px 2px rgba(0, 0, 0, 0.3));\n",
              "      fill: #FFFFFF;\n",
              "    }\n",
              "  </style>\n",
              "\n",
              "      <script>\n",
              "        const buttonEl =\n",
              "          document.querySelector('#df-bd5edf38-680b-4a16-8383-a389902771d5 button.colab-df-convert');\n",
              "        buttonEl.style.display =\n",
              "          google.colab.kernel.accessAllowed ? 'block' : 'none';\n",
              "\n",
              "        async function convertToInteractive(key) {\n",
              "          const element = document.querySelector('#df-bd5edf38-680b-4a16-8383-a389902771d5');\n",
              "          const dataTable =\n",
              "            await google.colab.kernel.invokeFunction('convertToInteractive',\n",
              "                                                     [key], {});\n",
              "          if (!dataTable) return;\n",
              "\n",
              "          const docLinkHtml = 'Like what you see? Visit the ' +\n",
              "            '<a target=\"_blank\" href=https://colab.research.google.com/notebooks/data_table.ipynb>data table notebook</a>'\n",
              "            + ' to learn more about interactive tables.';\n",
              "          element.innerHTML = '';\n",
              "          dataTable['output_type'] = 'display_data';\n",
              "          await google.colab.output.renderOutput(dataTable, element);\n",
              "          const docLink = document.createElement('div');\n",
              "          docLink.innerHTML = docLinkHtml;\n",
              "          element.appendChild(docLink);\n",
              "        }\n",
              "      </script>\n",
              "    </div>\n",
              "  </div>\n"
            ]
          },
          "metadata": {},
          "execution_count": 60
        }
      ]
    },
    {
      "cell_type": "code",
      "source": [
        "out_sample.Sentiment.value_counts()"
      ],
      "metadata": {
        "colab": {
          "base_uri": "https://localhost:8080/"
        },
        "id": "f9N_eCi-BUt2",
        "outputId": "98fffec9-2bfb-47bd-f9df-1a809b9de551"
      },
      "execution_count": 61,
      "outputs": [
        {
          "output_type": "execute_result",
          "data": {
            "text/plain": [
              "3    1852\n",
              "0    1752\n",
              "2    1378\n",
              "1     860\n",
              "4       1\n",
              "Name: Sentiment, dtype: int64"
            ]
          },
          "metadata": {},
          "execution_count": 61
        }
      ]
    },
    {
      "cell_type": "code",
      "source": [
        "get_distribution_sentiment(out_sample,'Out sample')"
      ],
      "metadata": {
        "colab": {
          "base_uri": "https://localhost:8080/",
          "height": 480
        },
        "id": "o7HgiAFyBvQq",
        "outputId": "9fdf78e6-101b-4cd9-b144-371bc42cce10"
      },
      "execution_count": 62,
      "outputs": [
        {
          "output_type": "display_data",
          "data": {
            "text/plain": [
              "<Figure size 800x550 with 1 Axes>"
            ],
            "image/png": "[encoded data removed]"
          },
          "metadata": {}
        }
      ]
    },
    {
      "cell_type": "code",
      "source": [
        "rfc = RandomForestClassifier(max_depth = 80,\n",
        "                                 max_features = 'auto',\n",
        "                                 n_estimators = 800,\n",
        "                             n_jobs=-1)\n",
        "\n",
        "rf_fitted = rfc.fit(features_train,y_train)\n",
        "pred_out_sample = rfc.predict(features_out_sample)\n",
        "print(\"Out of sample\")\n",
        "print(classification_report(out_sample[\"Sentiment\"], pred_out_sample))"
      ],
      "metadata": {
        "colab": {
          "base_uri": "https://localhost:8080/"
        },
        "id": "bOk0v8ScE9HK",
        "outputId": "aabcff84-a9a1-4d04-f665-e0d992220674"
      },
      "execution_count": 63,
      "outputs": [
        {
          "output_type": "stream",
          "name": "stderr",
          "text": [
            "/usr/local/lib/python3.10/dist-packages/sklearn/ensemble/_forest.py:424: FutureWarning: `max_features='auto'` has been deprecated in 1.1 and will be removed in 1.3. To keep the past behaviour, explicitly set `max_features='sqrt'` or remove this parameter as it is also the default value for RandomForestClassifiers and ExtraTreesClassifiers.\n",
            "  warn(\n"
          ]
        },
        {
          "output_type": "stream",
          "name": "stdout",
          "text": [
            "Out of sample\n",
            "              precision    recall  f1-score   support\n",
            "\n",
            "           0       0.51      0.01      0.02      1752\n",
            "           1       0.14      0.66      0.23       860\n",
            "           2       0.22      0.26      0.23      1378\n",
            "           3       0.57      0.06      0.11      1852\n",
            "           4       0.00      0.00      0.00         1\n",
            "\n",
            "    accuracy                           0.18      5843\n",
            "   macro avg       0.29      0.20      0.12      5843\n",
            "weighted avg       0.41      0.18      0.13      5843\n",
            "\n"
          ]
        },
        {
          "output_type": "stream",
          "name": "stderr",
          "text": [
            "/usr/local/lib/python3.10/dist-packages/sklearn/metrics/_classification.py:1344: UndefinedMetricWarning: Precision and F-score are ill-defined and being set to 0.0 in labels with no predicted samples. Use `zero_division` parameter to control this behavior.\n",
            "  _warn_prf(average, modifier, msg_start, len(result))\n",
            "/usr/local/lib/python3.10/dist-packages/sklearn/metrics/_classification.py:1344: UndefinedMetricWarning: Precision and F-score are ill-defined and being set to 0.0 in labels with no predicted samples. Use `zero_division` parameter to control this behavior.\n",
            "  _warn_prf(average, modifier, msg_start, len(result))\n",
            "/usr/local/lib/python3.10/dist-packages/sklearn/metrics/_classification.py:1344: UndefinedMetricWarning: Precision and F-score are ill-defined and being set to 0.0 in labels with no predicted samples. Use `zero_division` parameter to control this behavior.\n",
            "  _warn_prf(average, modifier, msg_start, len(result))\n"
          ]
        }
      ]
    },
    {
      "cell_type": "markdown",
      "source": [
        "##**Conclusion:**\n",
        "\n",
        "\n",
        "\n",
        "*   #### With the optimal parameters obtained, the Random Forest model has performed well on the validation data with an accuracy of 0.87, F1-score of 0.87, Precision of 0.88 and Recall of 0.86\n",
        "*   #### Random Forest is highly dependent on the features that we have trained on, so for the out of sample dataset we need an algorithm like Neural nets which has more exhaustive features and is more adpatable to the patterns behind the data\n",
        "\n",
        "\n",
        "*   #### Random Forest can capture the interactions between features, and from our analysis we infer that the algorithm can provide good results for sentiment analysis tasks that don't heavily rely on language nuances\n",
        "\n",
        "\n",
        "\n",
        "\n",
        "\n",
        "\n"
      ],
      "metadata": {
        "id": "SMepOEiUN3ak"
      }
    }
  ]
}